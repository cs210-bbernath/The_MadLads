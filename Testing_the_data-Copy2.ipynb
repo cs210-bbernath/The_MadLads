{
 "cells": [
  {
   "cell_type": "code",
   "execution_count": 20,
   "id": "2fd0d97f",
   "metadata": {},
   "outputs": [
    {
     "name": "stdout",
     "output_type": "stream",
     "text": [
      "The autoreload extension is already loaded. To reload it, use:\n",
      "  %reload_ext autoreload\n"
     ]
    }
   ],
   "source": [
    "import numpy as np\n",
    "import matplotlib as plt\n",
    "from hilp import *\n",
    "from helper import *\n",
    "from costs import *\n",
    "from least_squares import *\n",
    "from ridge_regression import *\n",
    "from logistic_regression import *\n",
    "from cross_validation import *\n",
    "%load_ext autoreload\n",
    "%autoreload 2"
   ]
  },
  {
   "cell_type": "code",
   "execution_count": 2,
   "id": "3351eeee",
   "metadata": {},
   "outputs": [],
   "source": [
    "yb, input_data, ids = load_csv_data('data/train.csv')"
   ]
  },
  {
   "cell_type": "code",
   "execution_count": 3,
   "id": "88345aff",
   "metadata": {},
   "outputs": [],
   "source": [
    "yb_te, input_data_te, ids_te = load_csv_data('data/test.csv')"
   ]
  },
  {
   "cell_type": "code",
   "execution_count": 4,
   "id": "b30bd3d3",
   "metadata": {},
   "outputs": [
    {
     "data": {
      "text/plain": [
       "(568238,)"
      ]
     },
     "execution_count": 4,
     "metadata": {},
     "output_type": "execute_result"
    }
   ],
   "source": [
    "np.shape(yb_te)"
   ]
  },
  {
   "cell_type": "code",
   "execution_count": 5,
   "id": "0380fb97",
   "metadata": {},
   "outputs": [
    {
     "data": {
      "text/plain": [
       "(250000, 30)"
      ]
     },
     "execution_count": 5,
     "metadata": {},
     "output_type": "execute_result"
    }
   ],
   "source": [
    "input_data.shape"
   ]
  },
  {
   "cell_type": "code",
   "execution_count": 6,
   "id": "f58f925f",
   "metadata": {},
   "outputs": [
    {
     "name": "stdout",
     "output_type": "stream",
     "text": [
      "(20, 250000)\n"
     ]
    }
   ],
   "source": [
    "cleaned_columns = [c for c in input_data.T if (c==-999).sum()/len(c) < 0.2]\n",
    "print(np.shape(cleaned_columns))\n",
    "for c in cleaned_columns:\n",
    "    numb_of_nan = (c==-999).sum()\n",
    "    median = np.median(list(filter(lambda x : x!= -999, c)))\n",
    "    c[c == -999] = median"
   ]
  },
  {
   "cell_type": "code",
   "execution_count": 7,
   "id": "e4f08af9",
   "metadata": {},
   "outputs": [
    {
     "name": "stdout",
     "output_type": "stream",
     "text": [
      "(20, 568238)\n"
     ]
    }
   ],
   "source": [
    "cleaned_columns_te = [c for c in input_data_te.T if (c==-999).sum()/len(c) < 0.2]\n",
    "print(np.shape(cleaned_columns_te))\n",
    "for c in cleaned_columns_te:\n",
    "    numb_of_nan = (c==-999).sum()\n",
    "    median = np.median(list(filter(lambda x : x!= -999, c)))\n",
    "    c[c == -999] = median"
   ]
  },
  {
   "cell_type": "code",
   "execution_count": null,
   "id": "3b54e4d9",
   "metadata": {},
   "outputs": [],
   "source": []
  },
  {
   "cell_type": "code",
   "execution_count": 8,
   "id": "ea055202",
   "metadata": {},
   "outputs": [],
   "source": [
    "def create_cor_matrix(cleaned_columns):\n",
    "    cor_matrix = np.corrcoef(cleaned_columns)\n",
    "    upper_tri = np.triu(cor_matrix)\n",
    "    for i in range(upper_tri.shape[0]):\n",
    "        upper_tri[i][i]= 0\n",
    "    return list(zip(*np.where(upper_tri > 0.6)))"
   ]
  },
  {
   "cell_type": "code",
   "execution_count": 9,
   "id": "c56dd84e",
   "metadata": {},
   "outputs": [],
   "source": [
    "def count(zipped):\n",
    "    c = [item for z in zipped for item in z]\n",
    "    return [(x,c.count(x)) for x in set(c)]"
   ]
  },
  {
   "cell_type": "code",
   "execution_count": 10,
   "id": "173971b3",
   "metadata": {},
   "outputs": [
    {
     "name": "stdout",
     "output_type": "stream",
     "text": [
      "[(0, 1), (2, 1), (3, 5), (6, 4), (7, 1), (12, 1), (15, 1), (17, 4), (18, 4), (19, 4)]\n",
      "(19, 250000)\n",
      "[(0, 1), (2, 1), (5, 3), (6, 1), (11, 1), (16, 3), (17, 3), (18, 3)]\n",
      "(18, 250000)\n",
      "[(0, 1), (2, 1), (5, 1), (10, 1), (15, 2), (16, 2), (17, 2)]\n",
      "(17, 250000)\n",
      "[(0, 1), (2, 1), (5, 1), (10, 1), (15, 1), (16, 1)]\n",
      "(16, 250000)\n",
      "[(9, 1), (4, 1), (14, 1), (15, 1)]\n",
      "(15, 250000)\n",
      "[(13, 1), (14, 1)]\n",
      "(14, 250000)\n"
     ]
    }
   ],
   "source": [
    "zipped = create_cor_matrix(cleaned_columns)\n",
    "while len(zipped) > 0 :\n",
    "    biggest = (-1,-1)\n",
    "    cnt = count(zipped)\n",
    "    print(cnt)\n",
    "    for c in cnt:\n",
    "        if c[1] > biggest[1]:\n",
    "            biggest = c\n",
    "    del cleaned_columns[biggest[0]]\n",
    "    print(np.shape(cleaned_columns))\n",
    "    zipped = create_cor_matrix(cleaned_columns)"
   ]
  },
  {
   "cell_type": "code",
   "execution_count": 11,
   "id": "8c3a2603",
   "metadata": {},
   "outputs": [
    {
     "name": "stdout",
     "output_type": "stream",
     "text": [
      "[(0, 1), (2, 1), (3, 5), (6, 4), (7, 1), (12, 1), (15, 1), (17, 4), (18, 4), (19, 4)]\n",
      "(19, 568238)\n",
      "[(0, 1), (2, 1), (5, 3), (6, 1), (11, 1), (16, 3), (17, 3), (18, 3)]\n",
      "(18, 568238)\n",
      "[(0, 1), (2, 1), (5, 1), (10, 1), (15, 2), (16, 2), (17, 2)]\n",
      "(17, 568238)\n",
      "[(0, 1), (2, 1), (5, 1), (10, 1), (15, 1), (16, 1)]\n",
      "(16, 568238)\n",
      "[(9, 1), (4, 1), (14, 1), (15, 1)]\n",
      "(15, 568238)\n",
      "[(13, 1), (14, 1)]\n",
      "(14, 568238)\n"
     ]
    }
   ],
   "source": [
    "zipped = create_cor_matrix(cleaned_columns_te)\n",
    "while len(zipped) > 0 :\n",
    "    biggest = (-1,-1)\n",
    "    cnt = count(zipped)\n",
    "    print(cnt)\n",
    "    for c in cnt:\n",
    "        if c[1] > biggest[1]:\n",
    "            biggest = c\n",
    "    del cleaned_columns_te[biggest[0]]\n",
    "    print(np.shape(cleaned_columns_te))\n",
    "    zipped = create_cor_matrix(cleaned_columns_te)"
   ]
  },
  {
   "cell_type": "code",
   "execution_count": 12,
   "id": "b2eae98c",
   "metadata": {},
   "outputs": [
    {
     "data": {
      "text/plain": [
       "(14, 568238)"
      ]
     },
     "execution_count": 12,
     "metadata": {},
     "output_type": "execute_result"
    }
   ],
   "source": [
    "np.shape(cleaned_columns_te)"
   ]
  },
  {
   "cell_type": "code",
   "execution_count": 13,
   "id": "0d151ec9",
   "metadata": {},
   "outputs": [],
   "source": [
    "\n",
    "batch_size = 1\n",
    "max_iters = 20\n",
    "#gamma = 0.01\n",
    "lambda_ = 0.01"
   ]
  },
  {
   "cell_type": "code",
   "execution_count": null,
   "id": "7ebd4ace",
   "metadata": {},
   "outputs": [],
   "source": []
  },
  {
   "cell_type": "code",
   "execution_count": 14,
   "id": "0420b403",
   "metadata": {},
   "outputs": [],
   "source": [
    "gammas = [0.001, 0.002, 0.005, 0.01, 0.02, 0.03]"
   ]
  },
  {
   "cell_type": "code",
   "execution_count": 15,
   "id": "36439cd2",
   "metadata": {},
   "outputs": [],
   "source": [
    "# standardize the data\n",
    "std_data, mean, std = standardize(np.transpose(cleaned_columns))"
   ]
  },
  {
   "cell_type": "code",
   "execution_count": 16,
   "id": "bcdce6fd",
   "metadata": {},
   "outputs": [],
   "source": [
    "std_data_te, mean_te, std_te = standardize(np.transpose(cleaned_columns_te))"
   ]
  },
  {
   "cell_type": "code",
   "execution_count": 17,
   "id": "3a430b69",
   "metadata": {},
   "outputs": [],
   "source": [
    "# build the model (add 1's for the w0)\n",
    "tx, y = build_model_data(std_data, yb)"
   ]
  },
  {
   "cell_type": "code",
   "execution_count": 18,
   "id": "5fc6b453",
   "metadata": {},
   "outputs": [],
   "source": [
    "tx_te, y_te = build_model_data(std_data_te, yb_te)"
   ]
  },
  {
   "cell_type": "code",
   "execution_count": null,
   "id": "6fd4d7aa",
   "metadata": {},
   "outputs": [],
   "source": [
    "print(tx.shape)"
   ]
  },
  {
   "cell_type": "code",
   "execution_count": null,
   "id": "28fb19d2",
   "metadata": {},
   "outputs": [],
   "source": [
    "initial_w = np.random.randint(0,1,tx.shape[1])"
   ]
  },
  {
   "cell_type": "code",
   "execution_count": null,
   "id": "28629568",
   "metadata": {},
   "outputs": [],
   "source": [
    "from cross_validation import * \n",
    "degree = 3\n",
    "k_fold = 4\n",
    "lambdas = np.logspace(-4, 0, 30)\n",
    "degrees = [3,5,7]\n",
    "seed = 1\n",
    "k_indices = build_k_indices(y, k_fold, seed)\n"
   ]
  },
  {
   "cell_type": "code",
   "execution_count": 76,
   "id": "ce751586",
   "metadata": {},
   "outputs": [],
   "source": [
    "initial_w = np.random.randint(0,1,len(tx.T))\n",
    "max_iters = 30\n",
    "gammas = np.arange(0.001,0.01,0.001)"
   ]
  },
  {
   "cell_type": "code",
   "execution_count": null,
   "id": "bc869e64",
   "metadata": {},
   "outputs": [],
   "source": [
    "print(initial_w.shape)"
   ]
  },
  {
   "cell_type": "code",
   "execution_count": null,
   "id": "9dd2a1bd",
   "metadata": {},
   "outputs": [],
   "source": [
    "cross_validation_gradient_descent(y, tx, k_fold, initial_w=initial_w, max_iters = max_iters, gammas = gammas)"
   ]
  },
  {
   "cell_type": "code",
   "execution_count": null,
   "id": "506df381",
   "metadata": {},
   "outputs": [],
   "source": [
    "cross_validation_stochastic_gradient_descent(y, tx, k_fold, initial_w=initial_w, max_iters = max_iters, gammas = gammas, batch_size = 2)"
   ]
  },
  {
   "cell_type": "code",
   "execution_count": 23,
   "id": "4208cf0d",
   "metadata": {},
   "outputs": [],
   "source": [
    "k_fold = 4\n",
    "lambdas = np.logspace(-5, 0, 9)"
   ]
  },
  {
   "cell_type": "code",
   "execution_count": 25,
   "id": "97e47a20",
   "metadata": {},
   "outputs": [
    {
     "ename": "NameError",
     "evalue": "name 'y1' is not defined",
     "output_type": "error",
     "traceback": [
      "\u001b[1;31m---------------------------------------------------------------------------\u001b[0m",
      "\u001b[1;31mNameError\u001b[0m                                 Traceback (most recent call last)",
      "Input \u001b[1;32mIn [25]\u001b[0m, in \u001b[0;36m<cell line: 2>\u001b[1;34m()\u001b[0m\n\u001b[0;32m      1\u001b[0m \u001b[38;5;28;01mfrom\u001b[39;00m \u001b[38;5;21;01mcross_validation\u001b[39;00m \u001b[38;5;28;01mimport\u001b[39;00m \u001b[38;5;241m*\u001b[39m \n\u001b[1;32m----> 2\u001b[0m _,_, acc \u001b[38;5;241m=\u001b[39m cross_validation_ridge_regression(\u001b[43my1\u001b[49m, x1, k_fold, lambdas, \u001b[38;5;241m7\u001b[39m)\n\u001b[0;32m      3\u001b[0m \u001b[38;5;28mprint\u001b[39m(acc)\n",
      "\u001b[1;31mNameError\u001b[0m: name 'y1' is not defined"
     ]
    }
   ],
   "source": [
    "from cross_validation import * \n",
    "_,_, acc = cross_validation_ridge_regression(y1, x1, k_fold, lambdas, 7)\n",
    "print(acc)"
   ]
  },
  {
   "cell_type": "code",
   "execution_count": 25,
   "id": "70cd6d93",
   "metadata": {},
   "outputs": [],
   "source": [
    "degrees = [1,2,3]"
   ]
  },
  {
   "cell_type": "code",
   "execution_count": 23,
   "id": "a8676bc3",
   "metadata": {},
   "outputs": [],
   "source": [
    "from build_polynomial import build_poly"
   ]
  },
  {
   "cell_type": "code",
   "execution_count": 70,
   "id": "0e20a256",
   "metadata": {},
   "outputs": [
    {
     "name": "stdout",
     "output_type": "stream",
     "text": [
      "76.80720000000001\n"
     ]
    }
   ],
   "source": [
    "best_lambda,best_rmse, acc, deg = cross_validation_ridge_regression(y, tx, k_fold, lambdas, degrees)"
   ]
  },
  {
   "cell_type": "code",
   "execution_count": 74,
   "id": "fa124e31",
   "metadata": {},
   "outputs": [
    {
     "name": "stdout",
     "output_type": "stream",
     "text": [
      "0.9631752942590047\n",
      "7\n",
      "0.0001\n"
     ]
    }
   ],
   "source": [
    "print(best_rmse)\n",
    "print(deg)\n",
    "print(best_lambda)"
   ]
  },
  {
   "cell_type": "code",
   "execution_count": 64,
   "id": "1267c42a",
   "metadata": {},
   "outputs": [
    {
     "name": "stdout",
     "output_type": "stream",
     "text": [
      "76.80720000000001\n",
      "7\n",
      "0.0001\n"
     ]
    }
   ],
   "source": [
    "print(acc)\n",
    "print(deg)\n",
    "print(best_lambda)"
   ]
  },
  {
   "cell_type": "code",
   "execution_count": 65,
   "id": "e473cecf",
   "metadata": {},
   "outputs": [],
   "source": [
    "model_tr = build_poly(tx, deg)\n",
    "model_te = build_poly(tx_te, deg)"
   ]
  },
  {
   "cell_type": "code",
   "execution_count": 66,
   "id": "12a5013d",
   "metadata": {},
   "outputs": [],
   "source": [
    "w = ridge_regression(y, model_tr, best_lambda)"
   ]
  },
  {
   "cell_type": "code",
   "execution_count": 68,
   "id": "a01fe7f6",
   "metadata": {},
   "outputs": [],
   "source": [
    "from hilp import *"
   ]
  },
  {
   "cell_type": "code",
   "execution_count": 69,
   "id": "c356bb62",
   "metadata": {},
   "outputs": [],
   "source": [
    "y_pred = predict_y(model_te, w)\n",
    "\n",
    "name = 'ridge_try'\n",
    "create_csv_submission(ids_te, y_pred, name)"
   ]
  },
  {
   "cell_type": "code",
   "execution_count": 44,
   "id": "8b8954a9",
   "metadata": {},
   "outputs": [
    {
     "name": "stdout",
     "output_type": "stream",
     "text": [
      "10.672464706689803\n"
     ]
    }
   ],
   "source": [
    "\n",
    "w = ridge_regression(y, model_tr, best_lambda)\n",
    "y_pred=predict_y(model_te, w)\n",
    "acc = compute_accuracy(y_pred, y_te)\n",
    "print(acc)"
   ]
  },
  {
   "cell_type": "code",
   "execution_count": 59,
   "id": "88b75b81",
   "metadata": {},
   "outputs": [
    {
     "name": "stdout",
     "output_type": "stream",
     "text": [
      "65.73320000000001\n"
     ]
    },
    {
     "data": {
      "text/plain": [
       "(0.005, 8.632454286050928, 65.73320000000001, 2)"
      ]
     },
     "execution_count": 59,
     "metadata": {},
     "output_type": "execute_result"
    }
   ],
   "source": [
    "cross_validation_logistic_regression(y, tx, k_fold, max_iters, gammas, degrees)"
   ]
  },
  {
   "cell_type": "code",
   "execution_count": 39,
   "id": "68989dcb",
   "metadata": {},
   "outputs": [
    {
     "name": "stdout",
     "output_type": "stream",
     "text": [
      "65.8896\n",
      "65.6672\n",
      "65.7552\n",
      "65.6208\n",
      "65.8896\n",
      "65.6672\n",
      "65.7552\n",
      "65.6208\n",
      "65.8896\n",
      "65.6672\n",
      "65.7552\n",
      "65.6208\n",
      "65.8896\n",
      "65.6672\n",
      "65.7552\n",
      "65.6208\n",
      "65.8896\n",
      "65.6672\n"
     ]
    },
    {
     "ename": "KeyboardInterrupt",
     "evalue": "",
     "output_type": "error",
     "traceback": [
      "\u001b[1;31m---------------------------------------------------------------------------\u001b[0m",
      "\u001b[1;31mKeyboardInterrupt\u001b[0m                         Traceback (most recent call last)",
      "Input \u001b[1;32mIn [39]\u001b[0m, in \u001b[0;36m<cell line: 1>\u001b[1;34m()\u001b[0m\n\u001b[1;32m----> 1\u001b[0m \u001b[43mcross_validation_reg_logistic_regression\u001b[49m\u001b[43m(\u001b[49m\u001b[43my\u001b[49m\u001b[43m,\u001b[49m\u001b[43m \u001b[49m\u001b[43mtx\u001b[49m\u001b[43m,\u001b[49m\u001b[43m \u001b[49m\u001b[43mk_fold\u001b[49m\u001b[43m,\u001b[49m\u001b[43m \u001b[49m\u001b[43mmax_iters\u001b[49m\u001b[43m,\u001b[49m\u001b[43m \u001b[49m\u001b[43mlambdas\u001b[49m\u001b[43m,\u001b[49m\u001b[43m \u001b[49m\u001b[43mgammas\u001b[49m\u001b[43m,\u001b[49m\u001b[43m \u001b[49m\u001b[43mdegrees\u001b[49m\u001b[43m)\u001b[49m\n",
      "File \u001b[1;32m~\\ML\\The_MadLads\\cross_validation.py:336\u001b[0m, in \u001b[0;36mcross_validation_reg_logistic_regression\u001b[1;34m(y, tx, k_fold, max_iters, lambdas, gammas, degrees)\u001b[0m\n\u001b[0;32m    334\u001b[0m tmp_acc \u001b[38;5;241m=\u001b[39m []\n\u001b[0;32m    335\u001b[0m \u001b[38;5;28;01mfor\u001b[39;00m k \u001b[38;5;129;01min\u001b[39;00m \u001b[38;5;28mrange\u001b[39m(k_fold):\n\u001b[1;32m--> 336\u001b[0m     loss_tr, loss_te, acc \u001b[38;5;241m=\u001b[39m \u001b[43mcross_validation\u001b[49m\u001b[43m(\u001b[49m\u001b[43my\u001b[49m\u001b[43m,\u001b[49m\u001b[43m \u001b[49m\u001b[43mtx\u001b[49m\u001b[43m,\u001b[49m\u001b[43m \u001b[49m\u001b[43mfunc\u001b[49m\u001b[43m \u001b[49m\u001b[38;5;241;43m=\u001b[39;49m\u001b[43m \u001b[49m\u001b[38;5;124;43m'\u001b[39;49m\u001b[38;5;124;43mreg_logistic_regression\u001b[39;49m\u001b[38;5;124;43m'\u001b[39;49m\u001b[43m,\u001b[49m\u001b[43m \u001b[49m\u001b[43mmax_iters\u001b[49m\u001b[38;5;241;43m=\u001b[39;49m\u001b[43mmax_iters\u001b[49m\u001b[43m,\u001b[49m\u001b[43m \u001b[49m\u001b[43mk_indices\u001b[49m\u001b[38;5;241;43m=\u001b[39;49m\u001b[43mk_indices\u001b[49m\u001b[43m,\u001b[49m\u001b[43m \u001b[49m\u001b[43mk\u001b[49m\u001b[38;5;241;43m=\u001b[39;49m\u001b[43mk\u001b[49m\u001b[43m,\u001b[49m\u001b[43m \u001b[49m\u001b[43mgamma\u001b[49m\u001b[38;5;241;43m=\u001b[39;49m\u001b[43mgamma\u001b[49m\u001b[43m,\u001b[49m\u001b[43m \u001b[49m\u001b[43mdegree\u001b[49m\u001b[38;5;241;43m=\u001b[39;49m\u001b[43mdegree\u001b[49m\u001b[43m,\u001b[49m\u001b[43m \u001b[49m\u001b[43mlambda_\u001b[49m\u001b[38;5;241;43m=\u001b[39;49m\u001b[43mlambda_\u001b[49m\u001b[43m)\u001b[49m\n\u001b[0;32m    337\u001b[0m     tmp_tr\u001b[38;5;241m.\u001b[39mappend(loss_tr)\n\u001b[0;32m    338\u001b[0m     tmp_te\u001b[38;5;241m.\u001b[39mappend(loss_te)\n",
      "File \u001b[1;32m~\\ML\\The_MadLads\\cross_validation.py:84\u001b[0m, in \u001b[0;36mcross_validation\u001b[1;34m(y, tx, func, k_indices, k, lambda_, degree, max_iters, gamma, batch_size)\u001b[0m\n\u001b[0;32m     82\u001b[0m     w \u001b[38;5;241m=\u001b[39m ridge_regression(train_y, model_tr, lambda_)\n\u001b[0;32m     83\u001b[0m \u001b[38;5;28;01melif\u001b[39;00m func \u001b[38;5;241m==\u001b[39m \u001b[38;5;124m'\u001b[39m\u001b[38;5;124mreg_logistic_regression\u001b[39m\u001b[38;5;124m'\u001b[39m:\n\u001b[1;32m---> 84\u001b[0m     l, ws \u001b[38;5;241m=\u001b[39m \u001b[43mreg_logistic_regression\u001b[49m\u001b[43m(\u001b[49m\u001b[43mtrain_y\u001b[49m\u001b[43m,\u001b[49m\u001b[43m \u001b[49m\u001b[43mmodel_tr\u001b[49m\u001b[43m,\u001b[49m\u001b[43m \u001b[49m\u001b[43mlambda_\u001b[49m\u001b[43m,\u001b[49m\u001b[43m \u001b[49m\u001b[43minitial_w\u001b[49m\u001b[43m,\u001b[49m\u001b[43m \u001b[49m\u001b[43mmax_iters\u001b[49m\u001b[43m,\u001b[49m\u001b[43m \u001b[49m\u001b[43mgamma\u001b[49m\u001b[43m)\u001b[49m\n\u001b[0;32m     85\u001b[0m     idx \u001b[38;5;241m=\u001b[39m np\u001b[38;5;241m.\u001b[39margmax(l)\n\u001b[0;32m     86\u001b[0m     w \u001b[38;5;241m=\u001b[39m ws[idx]\n",
      "File \u001b[1;32m~\\ML\\The_MadLads\\logistic_regression.py:71\u001b[0m, in \u001b[0;36mreg_logistic_regression\u001b[1;34m(y, tx, lambda_, initial_w, max_iters, gamma)\u001b[0m\n\u001b[0;32m     67\u001b[0m N \u001b[38;5;241m=\u001b[39m \u001b[38;5;28mlen\u001b[39m(y)\n\u001b[0;32m     69\u001b[0m \u001b[38;5;28;01mfor\u001b[39;00m n_iter \u001b[38;5;129;01min\u001b[39;00m \u001b[38;5;28mrange\u001b[39m(max_iters):\n\u001b[0;32m     70\u001b[0m     \u001b[38;5;66;03m# compute gradient\u001b[39;00m\n\u001b[1;32m---> 71\u001b[0m     gradient \u001b[38;5;241m=\u001b[39m \u001b[38;5;241m2\u001b[39m\u001b[38;5;241m/\u001b[39mN \u001b[38;5;241m*\u001b[39m tx\u001b[38;5;241m.\u001b[39mT\u001b[38;5;241m.\u001b[39mdot(\u001b[43msigmoid\u001b[49m\u001b[43m(\u001b[49m\u001b[43mtx\u001b[49m\u001b[38;5;129;43m@w\u001b[39;49m\u001b[43m)\u001b[49m \u001b[38;5;241m-\u001b[39m y) \u001b[38;5;241m+\u001b[39m (lambda_)\u001b[38;5;241m*\u001b[39mw\n\u001b[0;32m     73\u001b[0m     \u001b[38;5;66;03m# update w by gradient\u001b[39;00m\n\u001b[0;32m     74\u001b[0m     w \u001b[38;5;241m=\u001b[39m w \u001b[38;5;241m-\u001b[39m (gamma \u001b[38;5;241m*\u001b[39m gradient)\n",
      "File \u001b[1;32m~\\ML\\The_MadLads\\logistic_regression.py:5\u001b[0m, in \u001b[0;36msigmoid\u001b[1;34m(t)\u001b[0m\n\u001b[0;32m      4\u001b[0m \u001b[38;5;28;01mdef\u001b[39;00m \u001b[38;5;21msigmoid\u001b[39m(t):\n\u001b[1;32m----> 5\u001b[0m     t \u001b[38;5;241m=\u001b[39m \u001b[43mnp\u001b[49m\u001b[38;5;241;43m.\u001b[39;49m\u001b[43mclip\u001b[49m\u001b[43m(\u001b[49m\u001b[43mt\u001b[49m\u001b[43m,\u001b[49m\u001b[43m \u001b[49m\u001b[38;5;241;43m-\u001b[39;49m\u001b[38;5;241;43m20\u001b[39;49m\u001b[43m,\u001b[49m\u001b[43m \u001b[49m\u001b[38;5;241;43m20\u001b[39;49m\u001b[43m)\u001b[49m\n\u001b[0;32m      6\u001b[0m     \u001b[38;5;28;01mreturn\u001b[39;00m \u001b[38;5;241m1\u001b[39m \u001b[38;5;241m/\u001b[39m (\u001b[38;5;241m1\u001b[39m \u001b[38;5;241m+\u001b[39m np\u001b[38;5;241m.\u001b[39mexp(\u001b[38;5;241m-\u001b[39mt))\n",
      "File \u001b[1;32m<__array_function__ internals>:5\u001b[0m, in \u001b[0;36mclip\u001b[1;34m(*args, **kwargs)\u001b[0m\n",
      "File \u001b[1;32m~\\anaconda3\\envs\\ML\\lib\\site-packages\\numpy\\core\\fromnumeric.py:2115\u001b[0m, in \u001b[0;36mclip\u001b[1;34m(a, a_min, a_max, out, **kwargs)\u001b[0m\n\u001b[0;32m   2046\u001b[0m \u001b[38;5;129m@array_function_dispatch\u001b[39m(_clip_dispatcher)\n\u001b[0;32m   2047\u001b[0m \u001b[38;5;28;01mdef\u001b[39;00m \u001b[38;5;21mclip\u001b[39m(a, a_min, a_max, out\u001b[38;5;241m=\u001b[39m\u001b[38;5;28;01mNone\u001b[39;00m, \u001b[38;5;241m*\u001b[39m\u001b[38;5;241m*\u001b[39mkwargs):\n\u001b[0;32m   2048\u001b[0m     \u001b[38;5;124;03m\"\"\"\u001b[39;00m\n\u001b[0;32m   2049\u001b[0m \u001b[38;5;124;03m    Clip (limit) the values in an array.\u001b[39;00m\n\u001b[0;32m   2050\u001b[0m \n\u001b[1;32m   (...)\u001b[0m\n\u001b[0;32m   2113\u001b[0m \n\u001b[0;32m   2114\u001b[0m \u001b[38;5;124;03m    \"\"\"\u001b[39;00m\n\u001b[1;32m-> 2115\u001b[0m     \u001b[38;5;28;01mreturn\u001b[39;00m _wrapfunc(a, \u001b[38;5;124m'\u001b[39m\u001b[38;5;124mclip\u001b[39m\u001b[38;5;124m'\u001b[39m, a_min, a_max, out\u001b[38;5;241m=\u001b[39mout, \u001b[38;5;241m*\u001b[39m\u001b[38;5;241m*\u001b[39mkwargs)\n",
      "File \u001b[1;32m~\\anaconda3\\envs\\ML\\lib\\site-packages\\numpy\\core\\fromnumeric.py:57\u001b[0m, in \u001b[0;36m_wrapfunc\u001b[1;34m(obj, method, *args, **kwds)\u001b[0m\n\u001b[0;32m     54\u001b[0m     \u001b[38;5;28;01mreturn\u001b[39;00m _wrapit(obj, method, \u001b[38;5;241m*\u001b[39margs, \u001b[38;5;241m*\u001b[39m\u001b[38;5;241m*\u001b[39mkwds)\n\u001b[0;32m     56\u001b[0m \u001b[38;5;28;01mtry\u001b[39;00m:\n\u001b[1;32m---> 57\u001b[0m     \u001b[38;5;28;01mreturn\u001b[39;00m bound(\u001b[38;5;241m*\u001b[39margs, \u001b[38;5;241m*\u001b[39m\u001b[38;5;241m*\u001b[39mkwds)\n\u001b[0;32m     58\u001b[0m \u001b[38;5;28;01mexcept\u001b[39;00m \u001b[38;5;167;01mTypeError\u001b[39;00m:\n\u001b[0;32m     59\u001b[0m     \u001b[38;5;66;03m# A TypeError occurs if the object does have such a method in its\u001b[39;00m\n\u001b[0;32m     60\u001b[0m     \u001b[38;5;66;03m# class, but its signature is not identical to that of NumPy's. This\u001b[39;00m\n\u001b[1;32m   (...)\u001b[0m\n\u001b[0;32m     64\u001b[0m     \u001b[38;5;66;03m# Call _wrapit from within the except clause to ensure a potential\u001b[39;00m\n\u001b[0;32m     65\u001b[0m     \u001b[38;5;66;03m# exception has a traceback chain.\u001b[39;00m\n\u001b[0;32m     66\u001b[0m     \u001b[38;5;28;01mreturn\u001b[39;00m _wrapit(obj, method, \u001b[38;5;241m*\u001b[39margs, \u001b[38;5;241m*\u001b[39m\u001b[38;5;241m*\u001b[39mkwds)\n",
      "File \u001b[1;32m~\\anaconda3\\envs\\ML\\lib\\site-packages\\numpy\\core\\_methods.py:159\u001b[0m, in \u001b[0;36m_clip\u001b[1;34m(a, min, max, out, casting, **kwargs)\u001b[0m\n\u001b[0;32m    156\u001b[0m     \u001b[38;5;28;01mreturn\u001b[39;00m _clip_dep_invoke_with_casting(\n\u001b[0;32m    157\u001b[0m         um\u001b[38;5;241m.\u001b[39mmaximum, a, \u001b[38;5;28mmin\u001b[39m, out\u001b[38;5;241m=\u001b[39mout, casting\u001b[38;5;241m=\u001b[39mcasting, \u001b[38;5;241m*\u001b[39m\u001b[38;5;241m*\u001b[39mkwargs)\n\u001b[0;32m    158\u001b[0m \u001b[38;5;28;01melse\u001b[39;00m:\n\u001b[1;32m--> 159\u001b[0m     \u001b[38;5;28;01mreturn\u001b[39;00m _clip_dep_invoke_with_casting(\n\u001b[0;32m    160\u001b[0m         um\u001b[38;5;241m.\u001b[39mclip, a, \u001b[38;5;28mmin\u001b[39m, \u001b[38;5;28mmax\u001b[39m, out\u001b[38;5;241m=\u001b[39mout, casting\u001b[38;5;241m=\u001b[39mcasting, \u001b[38;5;241m*\u001b[39m\u001b[38;5;241m*\u001b[39mkwargs)\n",
      "File \u001b[1;32m~\\anaconda3\\envs\\ML\\lib\\site-packages\\numpy\\core\\_methods.py:113\u001b[0m, in \u001b[0;36m_clip_dep_invoke_with_casting\u001b[1;34m(ufunc, out, casting, *args, **kwargs)\u001b[0m\n\u001b[0;32m    111\u001b[0m \u001b[38;5;66;03m# try to deal with broken casting rules\u001b[39;00m\n\u001b[0;32m    112\u001b[0m \u001b[38;5;28;01mtry\u001b[39;00m:\n\u001b[1;32m--> 113\u001b[0m     \u001b[38;5;28;01mreturn\u001b[39;00m ufunc(\u001b[38;5;241m*\u001b[39margs, out\u001b[38;5;241m=\u001b[39mout, \u001b[38;5;241m*\u001b[39m\u001b[38;5;241m*\u001b[39mkwargs)\n\u001b[0;32m    114\u001b[0m \u001b[38;5;28;01mexcept\u001b[39;00m _exceptions\u001b[38;5;241m.\u001b[39m_UFuncOutputCastingError \u001b[38;5;28;01mas\u001b[39;00m e:\n\u001b[0;32m    115\u001b[0m     \u001b[38;5;66;03m# Numpy 1.17.0, 2019-02-24\u001b[39;00m\n\u001b[0;32m    116\u001b[0m     warnings\u001b[38;5;241m.\u001b[39mwarn(\n\u001b[0;32m    117\u001b[0m         \u001b[38;5;124m\"\u001b[39m\u001b[38;5;124mConverting the output of clip from \u001b[39m\u001b[38;5;132;01m{!r}\u001b[39;00m\u001b[38;5;124m to \u001b[39m\u001b[38;5;132;01m{!r}\u001b[39;00m\u001b[38;5;124m is deprecated. \u001b[39m\u001b[38;5;124m\"\u001b[39m\n\u001b[0;32m    118\u001b[0m         \u001b[38;5;124m\"\u001b[39m\u001b[38;5;124mPass `casting=\u001b[39m\u001b[38;5;130;01m\\\"\u001b[39;00m\u001b[38;5;124munsafe\u001b[39m\u001b[38;5;130;01m\\\"\u001b[39;00m\u001b[38;5;124m` explicitly to silence this warning, or \u001b[39m\u001b[38;5;124m\"\u001b[39m\n\u001b[1;32m   (...)\u001b[0m\n\u001b[0;32m    121\u001b[0m         stacklevel\u001b[38;5;241m=\u001b[39m\u001b[38;5;241m2\u001b[39m\n\u001b[0;32m    122\u001b[0m     )\n",
      "\u001b[1;31mKeyboardInterrupt\u001b[0m: "
     ]
    }
   ],
   "source": [
    "cross_validation_reg_logistic_regression(y, tx, k_fold, max_iters, lambdas, gammas, degrees)"
   ]
  },
  {
   "cell_type": "code",
   "execution_count": 35,
   "id": "0d40a008",
   "metadata": {},
   "outputs": [],
   "source": [
    "from logistic_regression import *"
   ]
  },
  {
   "cell_type": "code",
   "execution_count": 36,
   "id": "875f160a",
   "metadata": {},
   "outputs": [
    {
     "data": {
      "text/plain": [
       "(250000, 15)"
      ]
     },
     "execution_count": 36,
     "metadata": {},
     "output_type": "execute_result"
    }
   ],
   "source": [
    "tx.shape"
   ]
  },
  {
   "cell_type": "code",
   "execution_count": 37,
   "id": "7f18044d",
   "metadata": {},
   "outputs": [],
   "source": [
    "initial_w = np.random.randint(0,1,len(tx.T))"
   ]
  },
  {
   "cell_type": "code",
   "execution_count": 38,
   "id": "94c9edc2",
   "metadata": {},
   "outputs": [
    {
     "data": {
      "text/plain": [
       "([-30885.832075338363,\n",
       "  -17194.338546267354,\n",
       "  -10632.26182348934,\n",
       "  -6953.48585265316,\n",
       "  -4707.977008824804,\n",
       "  -3263.448975141417,\n",
       "  -2301.0394503240723,\n",
       "  -1643.7523659692483,\n",
       "  -1186.543570675488,\n",
       "  -863.988999161175,\n",
       "  -633.8592001964427,\n",
       "  -468.1492902582386,\n",
       "  -347.89556278819686,\n",
       "  -260.0429819406038,\n",
       "  -195.48367116642265,\n",
       "  -147.79350536032845,\n",
       "  -112.39903755353427,\n",
       "  -86.0185981136331,\n",
       "  -66.28091679461461,\n",
       "  -51.46176424813003,\n",
       "  -40.30051266970167,\n",
       "  -31.87079102123262,\n",
       "  -25.48860916982272,\n",
       "  -20.646709483690266,\n",
       "  -16.967200014084806,\n",
       "  -14.167770925167666,\n",
       "  -12.036395449145985,\n",
       "  -10.413320334409104,\n",
       "  -9.17816761751877,\n",
       "  -8.239535871860651],\n",
       " [array([-0.1629328 , -0.15851702, -0.22727118,  0.07403441,  0.00977652,\n",
       "          0.07680909,  0.0849063 , -0.04045015,  0.08302395,  0.08298306,\n",
       "          0.08306983,  0.08285546, -0.0718799 ,  0.0830856 , -0.13583214]),\n",
       "  array([-0.27667927, -0.28276703, -0.38054587,  0.12570854,  0.01817992,\n",
       "          0.13026115,  0.14468312, -0.05895339,  0.1409803 ,  0.1409019 ,\n",
       "          0.14106342,  0.14070246, -0.11574113,  0.14110123, -0.19219901]),\n",
       "  array([-0.36958768, -0.39322958, -0.50549189,  0.16792907,  0.02470036,\n",
       "          0.17379642,  0.19375953, -0.06973577,  0.18831695,  0.18820258,\n",
       "          0.1884326 ,  0.18795661, -0.15069306,  0.18849672, -0.22785671]),\n",
       "  array([-0.45154351, -0.49694624, -0.61652087,  0.20518159,  0.02999915,\n",
       "          0.21211214,  0.23720253, -0.07683646,  0.23007232,  0.22992287,\n",
       "          0.23021791,  0.22964402, -0.18165494,  0.23031126, -0.25516764]),\n",
       "  array([-0.52701049, -0.59694334, -0.71967906,  0.23949037,  0.03451261,\n",
       "          0.24733238,  0.27730655, -0.08188456,  0.2685214 ,  0.26833741,\n",
       "          0.26869541,  0.26803386, -0.21050126,  0.26882006, -0.27828493]),\n",
       "  array([-0.59835695, -0.6947357 , -0.8180078 ,  0.27192951,  0.03850746,\n",
       "          0.28058539,  0.31529028, -0.08568578,  0.30487116,  0.30465296,\n",
       "          0.30507265,  0.30432994, -0.23811842,  0.30523008, -0.29902863]),\n",
       "  array([-0.66696612, -0.79115394, -0.91321142,  0.30312647,  0.0421512 ,\n",
       "          0.31253077,  0.35186577, -0.0886883 ,  0.33982646,  0.33957426,\n",
       "          0.34005485,  0.33923529, -0.26497903,  0.34024616, -0.31832698]),\n",
       "  array([-0.73369781, -0.88668086, -1.00631431,  0.33347135,  0.04555247,\n",
       "          0.34357888,  0.38747554, -0.09116081,  0.37382543,  0.37353934,\n",
       "          0.37408031,  0.37318685, -0.29135453,  0.3743063 , -0.33670121]),\n",
       "  array([-0.79910971, -0.9816082 , -1.09796257,  0.36321722,  0.04878366,\n",
       "          0.37399612,  0.42240654, -0.09327275,  0.4071522 ,  0.40683228,\n",
       "          0.40743331,  0.40646798, -0.31740868,  0.40769458, -0.35446364]),\n",
       "  array([-0.86357467, -1.07611711, -1.18857795,  0.39253331,  0.05189397,\n",
       "          0.40396069,  0.4568505 , -0.09513483,  0.4399967 ,  0.43964299,\n",
       "          0.44030387,  0.43926814, -0.34324372,  0.44060086, -0.37181011]),\n",
       "  array([-0.92734759, -1.17032216, -1.27844288,  0.42153531,  0.05491739,\n",
       "          0.43359454,  0.4909384 , -0.09682131,  0.4724888 ,  0.47210132,\n",
       "          0.47282189,  0.47171681, -0.36892501,  0.47315493, -0.38886747]),\n",
       "  array([-0.99060568, -1.26429686, -1.3677502 ,  0.45030363,  0.05787769,\n",
       "          0.46298248,  0.52476124, -0.09838295,  0.50471874,  0.5042975 ,\n",
       "          0.50507766,  0.50390401, -0.39449511,  0.50544701, -0.40571993]),\n",
       "  array([-1.05347376, -1.35808877, -1.45663359,  0.47889496,  0.06079169,\n",
       "          0.4921843 ,  0.55838308, -0.09985499,  0.5367501 ,  0.53629511,\n",
       "          0.53713478,  0.53589315, -0.41998209,  0.53754061, -0.42242439]),\n",
       "  array([-1.11604072, -1.45172895, -1.54518687,  0.5073496 ,  0.06367132,\n",
       "          0.52124257,  0.59184949, -0.10126216,  0.56862815,  0.56813941,\n",
       "          0.56903853,  0.56772936, -0.44540465,  0.56948097, -0.43901984]),\n",
       "  array([-1.17837036, -1.54523773, -1.63347652,  0.53569654,  0.06652518,\n",
       "          0.5501879 ,  0.62519316, -0.102622  ,  0.60038537,  0.59986289,\n",
       "          0.6008214 ,  0.59944503, -0.47077536,  0.60130056, -0.4555333 ]),\n",
       "  array([-1.24050886, -1.63862848, -1.72155009,  0.56395671,  0.06935942,\n",
       "          0.57904241,  0.65843774, -0.10394703,  0.63204527,  0.63148907,\n",
       "          0.63250692,  0.63106362, -0.49610273,  0.63302285, -0.47198367]),\n",
       "  array([-1.30248982, -1.73191002, -1.80944184,  0.59214537,  0.07217854,\n",
       "          0.60782225,  0.69160041, -0.10524628,  0.66362497,  0.66303505,\n",
       "          0.66411219,  0.66260219, -0.52139251,  0.66466494, -0.48838424]),\n",
       "  array([-1.36433786, -1.82508817, -1.89717658,  0.62027367,  0.07498579,\n",
       "          0.63653921,  0.72469376, -0.10652624,  0.69513698,  0.69451337,\n",
       "          0.69564975,  0.69407322, -0.54664866,  0.69623934, -0.50474445]),\n",
       "  array([-1.42607107, -1.91816676, -1.98477241,  0.64834983,  0.07778355,\n",
       "          0.665202  ,  0.75772703, -0.10779167,  0.72659054,  0.72593324,\n",
       "          0.72712882,  0.72548591, -0.57187386,  0.72775526, -0.521071  ]),\n",
       "  array([-1.48770286, -2.01114834, -2.07224263,  0.67637992,  0.08057356,\n",
       "          0.69381705,  0.79070707, -0.10904602,  0.75799244,  0.75730149,\n",
       "          0.75855621,  0.75684706, -0.59706997,  0.75921951, -0.53736871]),\n",
       "  array([-1.54924318, -2.10403456, -2.159597  ,  0.70436847,  0.08335711,\n",
       "          0.72238913,  0.82363895, -0.11029182,  0.78934776,  0.78862318,\n",
       "          0.78993699,  0.78816171, -0.62223825,  0.79063714, -0.55364104]),\n",
       "  array([-1.61069944, -2.19682655, -2.24684278,  0.73231882,  0.08613513,\n",
       "          0.75092181,  0.85652645, -0.11153095,  0.82066028,  0.81990209,\n",
       "          0.82127494,  0.81943363, -0.6473796 ,  0.82201192, -0.56989047]),\n",
       "  array([-1.6720772 , -2.28952503, -2.33398537,  0.7602335 ,  0.08890834,\n",
       "          0.77941776,  0.88937241, -0.11276478,  0.85193281,  0.85114104,\n",
       "          0.85257289,  0.85066564, -0.67249461,  0.85334667, -0.58611881]),\n",
       "  array([-1.73338066, -2.38213049, -2.4210288 ,  0.78811441,  0.09167725,\n",
       "          0.807879  ,  0.92217896, -0.11399434,  0.8831675 ,  0.88234218,\n",
       "          0.88383296,  0.88185986, -0.69758373,  0.88464354, -0.60232739]),\n",
       "  array([-1.79461298, -2.47464327, -2.50797611,  0.81596298,  0.09444225,\n",
       "          0.83630704,  0.95494771, -0.11522039,  0.91436595,  0.9135071 ,\n",
       "          0.91505677,  0.9130179 , -0.72264723,  0.91590411, -0.61851716]),\n",
       "  array([-1.85577655, -2.5670636 , -2.5948296 ,  0.84378029,  0.09720363,\n",
       "          0.86470304,  0.98767989, -0.11644349,  0.94552939,  0.94463704,\n",
       "          0.94624554,  0.94414098, -0.74768533,  0.94712961, -0.63468883]),\n",
       "  array([-1.9168732 , -2.65939163, -2.68159101,  0.87156719,  0.0999616 ,\n",
       "          0.89306788,  1.02037642, -0.11766407,  0.97665873,  0.97573292,\n",
       "          0.97740019,  0.97523002, -0.77269819,  0.97832096, -0.65084292]),\n",
       "  array([-1.97790436, -2.75162751, -2.76826168,  0.8993243 ,  0.10271634,\n",
       "          0.92140223,  1.05303801, -0.11888245,  1.00775471,  1.00679546,\n",
       "          1.00852144,  1.00628574, -0.7976859 ,  1.00947889, -0.66697982]),\n",
       "  array([-2.03887108, -2.84377131, -2.85484265,  0.92705212,  0.10546795,\n",
       "          0.94970661,  1.08566523, -0.12009887,  1.03881786,  1.03782521,\n",
       "          1.03960986,  1.03730868, -0.82264855,  1.04060394, -0.6830998 ]),\n",
       "  array([-2.09977423, -2.93582314, -2.94133471,  0.95475103,  0.10821653,\n",
       "          0.97798143,  1.1182585 , -0.1213135 ,  1.06984862,  1.06882261,\n",
       "          1.07066585,  1.06829927, -0.8475862 ,  1.07169654, -0.6992031 ])])"
      ]
     },
     "execution_count": 38,
     "metadata": {},
     "output_type": "execute_result"
    }
   ],
   "source": [
    "reg_logistic_regression(y, tx, 0.01, initial_w, 30, 0.1)"
   ]
  }
 ],
 "metadata": {
  "kernelspec": {
   "display_name": "Python 3 (ipykernel)",
   "language": "python",
   "name": "python3"
  },
  "language_info": {
   "codemirror_mode": {
    "name": "ipython",
    "version": 3
   },
   "file_extension": ".py",
   "mimetype": "text/x-python",
   "name": "python",
   "nbconvert_exporter": "python",
   "pygments_lexer": "ipython3",
   "version": "3.9.12"
  }
 },
 "nbformat": 4,
 "nbformat_minor": 5
}
