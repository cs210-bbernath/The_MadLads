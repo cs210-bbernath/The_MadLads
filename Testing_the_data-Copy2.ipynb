{
 "cells": [
  {
   "cell_type": "code",
   "execution_count": 86,
   "id": "2fd0d97f",
   "metadata": {},
   "outputs": [
    {
     "name": "stdout",
     "output_type": "stream",
     "text": [
      "The autoreload extension is already loaded. To reload it, use:\n",
      "  %reload_ext autoreload\n"
     ]
    }
   ],
   "source": [
    "import numpy as np\n",
    "import matplotlib as plt\n",
    "from hilp import *\n",
    "from helper import *\n",
    "from costs import *\n",
    "from least_squares import *\n",
    "from ridge_regression import *\n",
    "from logistic_regression import *\n",
    "from cross_validation import *\n",
    "%load_ext autoreload\n",
    "%autoreload 2"
   ]
  },
  {
   "cell_type": "code",
   "execution_count": 115,
   "id": "3351eeee",
   "metadata": {},
   "outputs": [],
   "source": [
    "yb, input_data, ids = load_csv_data('data/train.csv')"
   ]
  },
  {
   "cell_type": "code",
   "execution_count": 88,
   "id": "b850b2fa",
   "metadata": {},
   "outputs": [],
   "source": [
    "yb_te, input_data_te, ids_te = load_csv_data('data/test.csv')"
   ]
  },
  {
   "cell_type": "code",
   "execution_count": 138,
   "id": "4cf8d006",
   "metadata": {},
   "outputs": [
    {
     "name": "stdout",
     "output_type": "stream",
     "text": [
      "-78666.0\n"
     ]
    }
   ],
   "source": [
    "diff = yb.sum()"
   ]
  },
  {
   "cell_type": "code",
   "execution_count": 156,
   "id": "d4586a4c",
   "metadata": {},
   "outputs": [],
   "source": [
    "indices = [i for i, x in enumerate(yb) if x == -1]\n",
    "index = np.arange(len(yb))\n",
    "ind = indices[:int(np.abs(diff))]\n",
    "ind_keep = ~np.isin(index, ind)\n",
    "tx_bal = input_data[ind_keep]\n",
    "y_bal = yb[ind_keep]"
   ]
  },
  {
   "cell_type": "code",
   "execution_count": 157,
   "id": "7ebd4ace",
   "metadata": {},
   "outputs": [
    {
     "name": "stdout",
     "output_type": "stream",
     "text": [
      "[(0, 2), (2, 2), (3, 7), (4, 2), (5, 1), (6, 8), (7, 1), (8, 5), (9, 3), (10, 1), (12, 2), (13, 1), (15, 4), (17, 8), (18, 5), (19, 6)]\n",
      "(19, 171334)\n",
      "[(0, 2), (2, 2), (3, 6), (4, 2), (5, 1), (6, 1), (7, 4), (8, 2), (9, 1), (11, 1), (12, 1), (14, 3), (16, 7), (17, 4), (18, 5)]\n",
      "(18, 171334)\n",
      "[(0, 2), (2, 2), (3, 5), (4, 2), (6, 1), (7, 3), (8, 1), (9, 1), (11, 1), (12, 1), (14, 2), (16, 3), (17, 4)]\n",
      "(17, 171334)\n",
      "[(0, 2), (2, 2), (3, 2), (5, 1), (6, 2), (8, 1), (10, 1), (11, 1), (13, 1), (15, 2), (16, 3)]\n",
      "(16, 171334)\n",
      "[(0, 2), (2, 2), (3, 2), (5, 1), (6, 1), (8, 1), (10, 1), (11, 1), (15, 1)]\n",
      "(15, 171334)\n",
      "[(1, 1), (2, 1), (4, 1), (5, 1), (7, 1), (9, 1), (10, 1), (14, 1)]\n",
      "(14, 171334)\n",
      "[(3, 1), (4, 1), (6, 1), (8, 1), (9, 1), (13, 1)]\n",
      "(13, 171334)\n",
      "[(8, 1), (3, 1), (12, 1), (5, 1)]\n",
      "(12, 171334)\n",
      "[(11, 1), (3, 1)]\n",
      "(11, 171334)\n",
      "[(0, 2), (2, 3), (3, 7), (4, 2), (5, 2), (6, 8), (7, 1), (8, 5), (9, 3), (10, 1), (12, 3), (13, 1), (15, 4), (17, 8), (18, 5), (19, 7)]\n",
      "(19, 568238)\n",
      "[(0, 2), (2, 3), (3, 6), (4, 2), (5, 2), (6, 1), (7, 4), (8, 2), (9, 1), (11, 2), (12, 1), (14, 3), (16, 7), (17, 4), (18, 6)]\n",
      "(18, 568238)\n",
      "[(0, 2), (2, 3), (3, 5), (4, 2), (5, 1), (6, 1), (7, 3), (8, 1), (9, 1), (11, 2), (12, 1), (14, 2), (16, 3), (17, 5)]\n",
      "(17, 568238)\n",
      "[(0, 2), (2, 3), (3, 2), (4, 1), (5, 1), (6, 2), (8, 1), (10, 2), (11, 1), (13, 1), (15, 2), (16, 4)]\n",
      "(16, 568238)\n",
      "[(0, 2), (2, 3), (3, 2), (5, 1), (6, 1), (8, 1), (10, 2), (11, 1), (15, 1)]\n",
      "(15, 568238)\n",
      "[(0, 1), (2, 1), (4, 1), (5, 1), (7, 1), (9, 1), (10, 1), (14, 1)]\n",
      "(14, 568238)\n",
      "[(3, 1), (4, 1), (6, 1), (8, 1), (9, 1), (13, 1)]\n",
      "(13, 568238)\n",
      "[(8, 1), (3, 1), (12, 1), (5, 1)]\n",
      "(12, 568238)\n",
      "[(11, 1), (3, 1)]\n",
      "(11, 568238)\n"
     ]
    }
   ],
   "source": [
    "tx = clean_standardize_data(tx_bal)\n",
    "tx_te = clean_standardize_data(input_data_te)"
   ]
  },
  {
   "cell_type": "code",
   "execution_count": 148,
   "id": "75b96e3f",
   "metadata": {},
   "outputs": [
    {
     "data": {
      "text/plain": [
       "(171334, 11)"
      ]
     },
     "execution_count": 148,
     "metadata": {},
     "output_type": "execute_result"
    }
   ],
   "source": [
    "tx_bal.shape"
   ]
  },
  {
   "cell_type": "code",
   "execution_count": null,
   "id": "a596c4c0",
   "metadata": {},
   "outputs": [],
   "source": [
    "print(yb.sum())\n",
    "print(tx.shape)"
   ]
  },
  {
   "cell_type": "code",
   "execution_count": 90,
   "id": "0420b403",
   "metadata": {},
   "outputs": [],
   "source": [
    "gammas = [0.08]"
   ]
  },
  {
   "cell_type": "code",
   "execution_count": 91,
   "id": "28fb19d2",
   "metadata": {},
   "outputs": [],
   "source": [
    "initial_w = np.random.uniform(-1,1,tx.shape[1])"
   ]
  },
  {
   "cell_type": "code",
   "execution_count": 152,
   "id": "28629568",
   "metadata": {},
   "outputs": [],
   "source": [
    "k_fold = 4\n",
    "lambdas = np.logspace(-10, -5, 15)\n",
    "degrees = [1]\n",
    "seed = 1\n",
    "k_indices = build_k_indices(yb, k_fold, seed)\n",
    "max_iters = 3000\n"
   ]
  },
  {
   "cell_type": "code",
   "execution_count": 37,
   "id": "bc869e64",
   "metadata": {},
   "outputs": [
    {
     "name": "stdout",
     "output_type": "stream",
     "text": [
      "(14,)\n"
     ]
    }
   ],
   "source": [
    "print(initial_w.shape)"
   ]
  },
  {
   "cell_type": "code",
   "execution_count": 153,
   "id": "9dd2a1bd",
   "metadata": {},
   "outputs": [
    {
     "name": "stdout",
     "output_type": "stream",
     "text": [
      "71.10638993299558\n",
      "71.57565428524735\n",
      "71.4379100226461\n",
      "71.30250040856349\n",
      "71.35561366236313\n"
     ]
    },
    {
     "data": {
      "text/plain": [
       "(0.08, 0.9004415397724217, 71.35561366236313, 1)"
      ]
     },
     "execution_count": 153,
     "metadata": {},
     "output_type": "execute_result"
    }
   ],
   "source": [
    "cross_validation_gradient_descent(y_bal, tx_bal, k_fold, max_iters = max_iters, gammas = gammas, degrees=degrees)"
   ]
  },
  {
   "cell_type": "code",
   "execution_count": 44,
   "id": "b1b81881",
   "metadata": {},
   "outputs": [],
   "source": [
    "model_tr = build_poly(tx, 1)\n",
    "model_te = build_poly(tx_te, 1)"
   ]
  },
  {
   "cell_type": "code",
   "execution_count": 46,
   "id": "44336495",
   "metadata": {},
   "outputs": [],
   "source": [
    "initial_w = np.random.uniform(-1,1,model_tr.shape[1])"
   ]
  },
  {
   "cell_type": "code",
   "execution_count": 47,
   "id": "8a520892",
   "metadata": {},
   "outputs": [],
   "source": [
    "l, w = gradient_descent(yb, model_tr, initial_w, 3000, 0.08)"
   ]
  },
  {
   "cell_type": "code",
   "execution_count": 54,
   "id": "ddd81686",
   "metadata": {},
   "outputs": [],
   "source": [
    "loss = np.argmin(l)\n",
    "weight = w[loss]"
   ]
  },
  {
   "cell_type": "code",
   "execution_count": 55,
   "id": "0d79a494",
   "metadata": {},
   "outputs": [],
   "source": [
    "y_pred = predict_y(model_te, weight)\n",
    "name = 'gradient_try'\n",
    "create_csv_submission(ids_te, y_pred, name)"
   ]
  },
  {
   "cell_type": "code",
   "execution_count": null,
   "id": "506df381",
   "metadata": {},
   "outputs": [],
   "source": [
    "cross_validation_stochastic_gradient_descent(y, tx, k_fold, initial_w=initial_w, max_iters = max_iters, gammas = gammas, batch_size = 2)"
   ]
  },
  {
   "cell_type": "code",
   "execution_count": 284,
   "id": "66d35293",
   "metadata": {},
   "outputs": [],
   "source": [
    "k_fold = 4\n",
    "lambdas = np.logspace(-5, 0, 9)"
   ]
  },
  {
   "cell_type": "code",
   "execution_count": 285,
   "id": "3ad9ba46",
   "metadata": {},
   "outputs": [
    {
     "data": {
      "text/plain": [
       "array([1.00000000e-05, 4.21696503e-05, 1.77827941e-04, 7.49894209e-04,\n",
       "       3.16227766e-03, 1.33352143e-02, 5.62341325e-02, 2.37137371e-01,\n",
       "       1.00000000e+00])"
      ]
     },
     "execution_count": 285,
     "metadata": {},
     "output_type": "execute_result"
    }
   ],
   "source": [
    "lambdas"
   ]
  },
  {
   "cell_type": "code",
   "execution_count": 23,
   "id": "837ff4ee",
   "metadata": {},
   "outputs": [],
   "source": [
    "from build_polynomial import build_poly"
   ]
  },
  {
   "cell_type": "code",
   "execution_count": 216,
   "id": "0e20a256",
   "metadata": {
    "scrolled": true
   },
   "outputs": [
    {
     "name": "stdout",
     "output_type": "stream",
     "text": [
      "77.3712\n",
      "77.4\n",
      "77.3376\n",
      "77.2096\n",
      "77.3392\n",
      "77.3984\n",
      "77.3088\n",
      "77.1792\n",
      "77.3344\n",
      "77.392\n",
      "77.304\n",
      "77.168\n",
      "77.3536\n",
      "77.3744\n",
      "77.3184\n",
      "77.168\n",
      "77.3408\n",
      "77.3712\n",
      "77.3152\n",
      "77.1792\n",
      "77.3312\n",
      "77.3856\n",
      "77.3264\n",
      "77.1856\n",
      "77.3792\n",
      "77.3792\n",
      "77.3312\n",
      "77.2128\n",
      "77.3792\n",
      "77.3792\n",
      "77.3248\n",
      "77.192\n",
      "77.344\n",
      "77.384\n",
      "77.3024\n",
      "77.2064\n",
      "77.2944\n",
      "77.3456\n",
      "77.264\n",
      "77.1456\n",
      "77.2064\n",
      "77.2816\n",
      "77.2128\n",
      "77.0848\n",
      "77.1472\n",
      "77.1312\n",
      "77.168\n",
      "76.896\n",
      "77.128\n",
      "77.0832\n",
      "77.1616\n",
      "76.8144\n",
      "77.112\n",
      "77.032\n",
      "77.1024\n",
      "76.8032\n",
      "77.0528\n",
      "77.056\n",
      "77.0784\n",
      "76.7856\n",
      "78.1984\n",
      "78.1056\n",
      "78.4336\n",
      "77.9968\n",
      "78.1776\n",
      "78.0464\n",
      "78.3712\n",
      "77.9968\n",
      "78.1536\n",
      "78.0272\n",
      "78.36\n",
      "77.9664\n",
      "78.152\n",
      "78.0256\n",
      "78.3584\n",
      "77.9312\n",
      "78.1456\n",
      "78.024\n",
      "78.3456\n",
      "77.9216\n",
      "78.1152\n",
      "78.016\n",
      "78.3568\n",
      "77.9088\n",
      "78.1024\n",
      "78.0224\n",
      "78.3456\n",
      "77.952\n",
      "78.1344\n",
      "78.0256\n",
      "78.3392\n",
      "77.9056\n",
      "78.1104\n",
      "77.9792\n",
      "78.328\n",
      "77.8432\n",
      "78.1184\n",
      "77.952\n",
      "78.2976\n",
      "77.8224\n",
      "78.0352\n",
      "77.9168\n",
      "78.1536\n",
      "77.84\n",
      "77.9712\n",
      "77.8752\n",
      "78.1056\n",
      "77.7488\n",
      "77.8768\n",
      "77.7952\n",
      "78.0656\n",
      "77.7088\n",
      "77.8416\n",
      "77.76\n",
      "78.0608\n",
      "77.6928\n",
      "77.8912\n",
      "77.768\n",
      "78.0208\n",
      "77.6896\n",
      "79.0544\n",
      "78.9296\n",
      "78.8752\n",
      "78.792\n",
      "79.0112\n",
      "78.8656\n",
      "78.8208\n",
      "78.728\n",
      "78.9904\n",
      "78.8384\n",
      "78.8\n",
      "78.7072\n",
      "78.9744\n",
      "78.8336\n",
      "78.7904\n",
      "78.6912\n",
      "78.9616\n",
      "78.8288\n",
      "78.7808\n",
      "78.6608\n",
      "78.9152\n",
      "78.7936\n",
      "78.7712\n",
      "78.6592\n",
      "78.896\n",
      "78.768\n",
      "78.7344\n",
      "78.6448\n",
      "78.8048\n",
      "78.752\n",
      "78.7584\n",
      "78.6288\n",
      "78.6976\n",
      "78.7392\n",
      "78.6848\n",
      "78.6592\n",
      "78.696\n",
      "78.6928\n",
      "78.6736\n",
      "78.6256\n",
      "78.6928\n",
      "78.6048\n",
      "78.616\n",
      "78.52\n",
      "78.5952\n",
      "78.5216\n",
      "78.5392\n",
      "78.4832\n",
      "78.4656\n",
      "78.5072\n",
      "78.504\n",
      "78.408\n",
      "78.4624\n",
      "78.48\n",
      "78.4192\n",
      "78.3264\n",
      "78.4208\n",
      "78.424\n",
      "78.3664\n",
      "78.2832\n",
      "78.9128\n"
     ]
    }
   ],
   "source": [
    "best_lambda,best_rmse, acc, deg = cross_validation_ridge_regression(y, tx, k_fold, lambdas, degrees)"
   ]
  },
  {
   "cell_type": "code",
   "execution_count": 241,
   "id": "b2131170",
   "metadata": {},
   "outputs": [],
   "source": [
    "model_tr = build_poly(tx, deg)\n",
    "model_te = build_poly(tx_te, deg)"
   ]
  },
  {
   "cell_type": "code",
   "execution_count": 282,
   "id": "d344ebd2",
   "metadata": {},
   "outputs": [
    {
     "name": "stdout",
     "output_type": "stream",
     "text": [
      "1e-10\n"
     ]
    }
   ],
   "source": [
    "print(best_lambda)"
   ]
  },
  {
   "cell_type": "code",
   "execution_count": 221,
   "id": "2b925893",
   "metadata": {},
   "outputs": [],
   "source": [
    "w = ridge_regression(y, model_tr, best_lambda)"
   ]
  },
  {
   "cell_type": "code",
   "execution_count": 242,
   "id": "9c1e8cd2",
   "metadata": {},
   "outputs": [],
   "source": [
    "y_pred = predict_y(model_te, w)\n",
    "\n",
    "name = 'ridge_try'\n",
    "create_csv_submission(ids_te, y_pred, name)"
   ]
  },
  {
   "cell_type": "code",
   "execution_count": 107,
   "id": "59ebc842",
   "metadata": {},
   "outputs": [],
   "source": [
    "max_iters = 100\n",
    "gammas = [0.08, 0.05]\n",
    "degrees = [1,2]"
   ]
  },
  {
   "cell_type": "code",
   "execution_count": 162,
   "id": "b066f72e",
   "metadata": {},
   "outputs": [],
   "source": [
    "y_bal[np.where(y_bal == -1)] = 0"
   ]
  },
  {
   "cell_type": "code",
   "execution_count": 164,
   "id": "88b75b81",
   "metadata": {
    "scrolled": true
   },
   "outputs": [
    {
     "ename": "KeyboardInterrupt",
     "evalue": "",
     "output_type": "error",
     "traceback": [
      "\u001b[1;31m---------------------------------------------------------------------------\u001b[0m",
      "\u001b[1;31mKeyboardInterrupt\u001b[0m                         Traceback (most recent call last)",
      "Input \u001b[1;32mIn [164]\u001b[0m, in \u001b[0;36m<cell line: 1>\u001b[1;34m()\u001b[0m\n\u001b[1;32m----> 1\u001b[0m \u001b[43mcross_validation_logistic_regression\u001b[49m\u001b[43m(\u001b[49m\u001b[43my_bal\u001b[49m\u001b[43m,\u001b[49m\u001b[43m \u001b[49m\u001b[43mtx\u001b[49m\u001b[43m,\u001b[49m\u001b[43m \u001b[49m\u001b[43mk_fold\u001b[49m\u001b[43m,\u001b[49m\u001b[43m \u001b[49m\u001b[43mmax_iters\u001b[49m\u001b[43m,\u001b[49m\u001b[43m \u001b[49m\u001b[43mgammas\u001b[49m\u001b[43m,\u001b[49m\u001b[43m \u001b[49m\u001b[43mdegrees\u001b[49m\u001b[43m)\u001b[49m\n",
      "File \u001b[1;32m~\\ML\\The_MadLads\\cross_validation.py:299\u001b[0m, in \u001b[0;36mcross_validation_logistic_regression\u001b[1;34m(y, tx, k_fold, max_iters, gammas, degrees)\u001b[0m\n\u001b[0;32m    297\u001b[0m tmp_acc \u001b[38;5;241m=\u001b[39m []\n\u001b[0;32m    298\u001b[0m \u001b[38;5;28;01mfor\u001b[39;00m k \u001b[38;5;129;01min\u001b[39;00m \u001b[38;5;28mrange\u001b[39m(k_fold):\n\u001b[1;32m--> 299\u001b[0m     loss_tr, loss_te, acc \u001b[38;5;241m=\u001b[39m \u001b[43mcross_validation\u001b[49m\u001b[43m(\u001b[49m\u001b[43my\u001b[49m\u001b[43m,\u001b[49m\u001b[43m \u001b[49m\u001b[43mtx\u001b[49m\u001b[43m,\u001b[49m\u001b[43m \u001b[49m\u001b[43mfunc\u001b[49m\u001b[43m \u001b[49m\u001b[38;5;241;43m=\u001b[39;49m\u001b[43m \u001b[49m\u001b[38;5;124;43m'\u001b[39;49m\u001b[38;5;124;43mlogistic_regression\u001b[39;49m\u001b[38;5;124;43m'\u001b[39;49m\u001b[43m,\u001b[49m\u001b[43m \u001b[49m\u001b[43mmax_iters\u001b[49m\u001b[38;5;241;43m=\u001b[39;49m\u001b[43mmax_iters\u001b[49m\u001b[43m,\u001b[49m\u001b[43m \u001b[49m\u001b[43mk_indices\u001b[49m\u001b[38;5;241;43m=\u001b[39;49m\u001b[43mk_indices\u001b[49m\u001b[43m,\u001b[49m\u001b[43m \u001b[49m\u001b[43mk\u001b[49m\u001b[38;5;241;43m=\u001b[39;49m\u001b[43mk\u001b[49m\u001b[43m,\u001b[49m\u001b[43m \u001b[49m\u001b[43mgamma\u001b[49m\u001b[38;5;241;43m=\u001b[39;49m\u001b[43mgamma\u001b[49m\u001b[43m,\u001b[49m\u001b[43m \u001b[49m\u001b[43mdegree\u001b[49m\u001b[38;5;241;43m=\u001b[39;49m\u001b[43mdegree\u001b[49m\u001b[43m)\u001b[49m\n\u001b[0;32m    300\u001b[0m     tmp_tr\u001b[38;5;241m.\u001b[39mappend(loss_tr)\n\u001b[0;32m    301\u001b[0m     tmp_te\u001b[38;5;241m.\u001b[39mappend(loss_te)\n",
      "File \u001b[1;32m~\\ML\\The_MadLads\\cross_validation.py:89\u001b[0m, in \u001b[0;36mcross_validation\u001b[1;34m(y, tx, func, k_indices, k, lambda_, degree, max_iters, gamma, batch_size)\u001b[0m\n\u001b[0;32m     87\u001b[0m     w \u001b[38;5;241m=\u001b[39m ws[idx]\n\u001b[0;32m     88\u001b[0m \u001b[38;5;28;01melif\u001b[39;00m func \u001b[38;5;241m==\u001b[39m \u001b[38;5;124m'\u001b[39m\u001b[38;5;124mlogistic_regression\u001b[39m\u001b[38;5;124m'\u001b[39m:\n\u001b[1;32m---> 89\u001b[0m     l, ws \u001b[38;5;241m=\u001b[39m \u001b[43mlogistic_regression\u001b[49m\u001b[43m(\u001b[49m\u001b[43mtrain_y\u001b[49m\u001b[43m,\u001b[49m\u001b[43m \u001b[49m\u001b[43mmodel_tr\u001b[49m\u001b[43m,\u001b[49m\u001b[43m \u001b[49m\u001b[43minitial_w\u001b[49m\u001b[43m,\u001b[49m\u001b[43m \u001b[49m\u001b[43mmax_iters\u001b[49m\u001b[43m,\u001b[49m\u001b[43m \u001b[49m\u001b[43mgamma\u001b[49m\u001b[43m)\u001b[49m\n\u001b[0;32m     90\u001b[0m     idx \u001b[38;5;241m=\u001b[39m np\u001b[38;5;241m.\u001b[39margmin(l)\n\u001b[0;32m     91\u001b[0m     loss \u001b[38;5;241m=\u001b[39m l[idx]\n",
      "File \u001b[1;32m~\\ML\\The_MadLads\\logistic_regression.py:36\u001b[0m, in \u001b[0;36mlogistic_regression\u001b[1;34m(y, tx, initial_w, max_iters, gamma)\u001b[0m\n\u001b[0;32m     33\u001b[0m gradient \u001b[38;5;241m=\u001b[39m logistic_gradient(y, tx, w, lambda_\u001b[38;5;241m=\u001b[39m\u001b[38;5;241m0\u001b[39m)\n\u001b[0;32m     34\u001b[0m w \u001b[38;5;241m=\u001b[39m w \u001b[38;5;241m-\u001b[39m (gamma \u001b[38;5;241m*\u001b[39m gradient)\n\u001b[1;32m---> 36\u001b[0m y_pred \u001b[38;5;241m=\u001b[39m sigmoid(\u001b[43mtx\u001b[49m\u001b[38;5;241;43m.\u001b[39;49m\u001b[43mdot\u001b[49m\u001b[43m(\u001b[49m\u001b[43mw\u001b[49m\u001b[43m)\u001b[49m)\n\u001b[0;32m     37\u001b[0m \u001b[38;5;66;03m# compute loss\u001b[39;00m\n\u001b[0;32m     38\u001b[0m loss \u001b[38;5;241m=\u001b[39m \u001b[38;5;241m-\u001b[39mnp\u001b[38;5;241m.\u001b[39msum(np\u001b[38;5;241m.\u001b[39mdot(y\u001b[38;5;241m.\u001b[39mT,np\u001b[38;5;241m.\u001b[39mlog(y_pred)\u001b[38;5;241m+\u001b[39m np\u001b[38;5;241m.\u001b[39mdot((\u001b[38;5;241m1\u001b[39m\u001b[38;5;241m-\u001b[39my)\u001b[38;5;241m.\u001b[39mT, np\u001b[38;5;241m.\u001b[39mlog(\u001b[38;5;241m1\u001b[39m\u001b[38;5;241m-\u001b[39my_pred)))) \u001b[38;5;241m/\u001b[39m(\u001b[38;5;28mlen\u001b[39m(y_pred))\n",
      "\u001b[1;31mKeyboardInterrupt\u001b[0m: "
     ]
    }
   ],
   "source": [
    "cross_validation_logistic_regression(y_bal, tx, k_fold, max_iters, gammas, degrees)"
   ]
  },
  {
   "cell_type": "code",
   "execution_count": 163,
   "id": "68989dcb",
   "metadata": {},
   "outputs": [
    {
     "name": "stdout",
     "output_type": "stream",
     "text": [
      "[0.76293804 0.52429255 0.507693   ... 0.40347747 0.42598295 0.49004139]\n",
      "nbr 1:0.5330702962668971\n",
      "47.08285667592744\n"
     ]
    },
    {
     "ename": "KeyboardInterrupt",
     "evalue": "",
     "output_type": "error",
     "traceback": [
      "\u001b[1;31m---------------------------------------------------------------------------\u001b[0m",
      "\u001b[1;31mKeyboardInterrupt\u001b[0m                         Traceback (most recent call last)",
      "Input \u001b[1;32mIn [163]\u001b[0m, in \u001b[0;36m<cell line: 1>\u001b[1;34m()\u001b[0m\n\u001b[1;32m----> 1\u001b[0m \u001b[43mcross_validation_reg_logistic_regression\u001b[49m\u001b[43m(\u001b[49m\u001b[43my_bal\u001b[49m\u001b[43m,\u001b[49m\u001b[43m \u001b[49m\u001b[43mtx\u001b[49m\u001b[43m,\u001b[49m\u001b[43m \u001b[49m\u001b[43mk_fold\u001b[49m\u001b[43m,\u001b[49m\u001b[43m \u001b[49m\u001b[43mmax_iters\u001b[49m\u001b[43m,\u001b[49m\u001b[43m \u001b[49m\u001b[43mlambdas\u001b[49m\u001b[43m,\u001b[49m\u001b[43m \u001b[49m\u001b[43mgammas\u001b[49m\u001b[43m,\u001b[49m\u001b[43m \u001b[49m\u001b[43mdegrees\u001b[49m\u001b[43m)\u001b[49m\n",
      "File \u001b[1;32m~\\ML\\The_MadLads\\cross_validation.py:354\u001b[0m, in \u001b[0;36mcross_validation_reg_logistic_regression\u001b[1;34m(y, tx, k_fold, max_iters, lambdas, gammas, degrees)\u001b[0m\n\u001b[0;32m    352\u001b[0m tmp_acc \u001b[38;5;241m=\u001b[39m []\n\u001b[0;32m    353\u001b[0m \u001b[38;5;28;01mfor\u001b[39;00m k \u001b[38;5;129;01min\u001b[39;00m \u001b[38;5;28mrange\u001b[39m(k_fold):\n\u001b[1;32m--> 354\u001b[0m     loss_tr, loss_te, acc \u001b[38;5;241m=\u001b[39m \u001b[43mcross_validation\u001b[49m\u001b[43m(\u001b[49m\u001b[43my\u001b[49m\u001b[43m,\u001b[49m\u001b[43m \u001b[49m\u001b[43mtx\u001b[49m\u001b[43m,\u001b[49m\u001b[43m \u001b[49m\u001b[43mfunc\u001b[49m\u001b[43m \u001b[49m\u001b[38;5;241;43m=\u001b[39;49m\u001b[43m \u001b[49m\u001b[38;5;124;43m'\u001b[39;49m\u001b[38;5;124;43mreg_logistic_regression\u001b[39;49m\u001b[38;5;124;43m'\u001b[39;49m\u001b[43m,\u001b[49m\u001b[43m \u001b[49m\u001b[43mmax_iters\u001b[49m\u001b[38;5;241;43m=\u001b[39;49m\u001b[43mmax_iters\u001b[49m\u001b[43m,\u001b[49m\u001b[43m \u001b[49m\u001b[43mk_indices\u001b[49m\u001b[38;5;241;43m=\u001b[39;49m\u001b[43mk_indices\u001b[49m\u001b[43m,\u001b[49m\u001b[43m \u001b[49m\u001b[43mk\u001b[49m\u001b[38;5;241;43m=\u001b[39;49m\u001b[43mk\u001b[49m\u001b[43m,\u001b[49m\u001b[43m \u001b[49m\u001b[43mgamma\u001b[49m\u001b[38;5;241;43m=\u001b[39;49m\u001b[43mgamma\u001b[49m\u001b[43m,\u001b[49m\u001b[43m \u001b[49m\u001b[43mdegree\u001b[49m\u001b[38;5;241;43m=\u001b[39;49m\u001b[43mdegree\u001b[49m\u001b[43m,\u001b[49m\u001b[43m \u001b[49m\u001b[43mlambda_\u001b[49m\u001b[38;5;241;43m=\u001b[39;49m\u001b[43mlambda_\u001b[49m\u001b[43m)\u001b[49m\n\u001b[0;32m    355\u001b[0m     tmp_tr\u001b[38;5;241m.\u001b[39mappend(loss_tr)\n\u001b[0;32m    356\u001b[0m     tmp_te\u001b[38;5;241m.\u001b[39mappend(loss_te)\n",
      "File \u001b[1;32m~\\ML\\The_MadLads\\cross_validation.py:84\u001b[0m, in \u001b[0;36mcross_validation\u001b[1;34m(y, tx, func, k_indices, k, lambda_, degree, max_iters, gamma, batch_size)\u001b[0m\n\u001b[0;32m     82\u001b[0m     w \u001b[38;5;241m=\u001b[39m ridge_regression(train_y, model_tr, lambda_)\n\u001b[0;32m     83\u001b[0m \u001b[38;5;28;01melif\u001b[39;00m func \u001b[38;5;241m==\u001b[39m \u001b[38;5;124m'\u001b[39m\u001b[38;5;124mreg_logistic_regression\u001b[39m\u001b[38;5;124m'\u001b[39m:\n\u001b[1;32m---> 84\u001b[0m     l, ws \u001b[38;5;241m=\u001b[39m \u001b[43mreg_logistic_regression\u001b[49m\u001b[43m(\u001b[49m\u001b[43mtrain_y\u001b[49m\u001b[43m,\u001b[49m\u001b[43m \u001b[49m\u001b[43mmodel_tr\u001b[49m\u001b[43m,\u001b[49m\u001b[43m \u001b[49m\u001b[43mlambda_\u001b[49m\u001b[43m,\u001b[49m\u001b[43m \u001b[49m\u001b[43minitial_w\u001b[49m\u001b[43m,\u001b[49m\u001b[43m \u001b[49m\u001b[43mmax_iters\u001b[49m\u001b[43m,\u001b[49m\u001b[43m \u001b[49m\u001b[43mgamma\u001b[49m\u001b[43m)\u001b[49m\n\u001b[0;32m     85\u001b[0m     idx \u001b[38;5;241m=\u001b[39m np\u001b[38;5;241m.\u001b[39margmax(l)\n\u001b[0;32m     86\u001b[0m     loss \u001b[38;5;241m=\u001b[39m l[idx]\n",
      "File \u001b[1;32m~\\ML\\The_MadLads\\logistic_regression.py:74\u001b[0m, in \u001b[0;36mreg_logistic_regression\u001b[1;34m(y, tx, lambda_, initial_w, max_iters, gamma)\u001b[0m\n\u001b[0;32m     70\u001b[0m N \u001b[38;5;241m=\u001b[39m \u001b[38;5;28mlen\u001b[39m(y)\n\u001b[0;32m     72\u001b[0m \u001b[38;5;28;01mfor\u001b[39;00m n_iter \u001b[38;5;129;01min\u001b[39;00m \u001b[38;5;28mrange\u001b[39m(max_iters):\n\u001b[0;32m     73\u001b[0m     \u001b[38;5;66;03m# compute gradient\u001b[39;00m\n\u001b[1;32m---> 74\u001b[0m     gradient \u001b[38;5;241m=\u001b[39m \u001b[38;5;241m2\u001b[39m\u001b[38;5;241m/\u001b[39mN \u001b[38;5;241m*\u001b[39m tx\u001b[38;5;241m.\u001b[39mT\u001b[38;5;241m.\u001b[39mdot(\u001b[43msigmoid\u001b[49m\u001b[43m(\u001b[49m\u001b[43mtx\u001b[49m\u001b[38;5;129;43m@w\u001b[39;49m\u001b[43m)\u001b[49m \u001b[38;5;241m-\u001b[39m y) \u001b[38;5;241m+\u001b[39m (lambda_)\u001b[38;5;241m*\u001b[39mw\n\u001b[0;32m     76\u001b[0m     \u001b[38;5;66;03m# update w by gradient\u001b[39;00m\n\u001b[0;32m     77\u001b[0m     w \u001b[38;5;241m=\u001b[39m w \u001b[38;5;241m-\u001b[39m (gamma \u001b[38;5;241m*\u001b[39m gradient)\n",
      "File \u001b[1;32m~\\ML\\The_MadLads\\logistic_regression.py:5\u001b[0m, in \u001b[0;36msigmoid\u001b[1;34m(t)\u001b[0m\n\u001b[0;32m      4\u001b[0m \u001b[38;5;28;01mdef\u001b[39;00m \u001b[38;5;21msigmoid\u001b[39m(t):\n\u001b[1;32m----> 5\u001b[0m     t \u001b[38;5;241m=\u001b[39m \u001b[43mnp\u001b[49m\u001b[38;5;241;43m.\u001b[39;49m\u001b[43mclip\u001b[49m\u001b[43m(\u001b[49m\u001b[43mt\u001b[49m\u001b[43m,\u001b[49m\u001b[43m \u001b[49m\u001b[38;5;241;43m-\u001b[39;49m\u001b[38;5;241;43m20\u001b[39;49m\u001b[43m,\u001b[49m\u001b[43m \u001b[49m\u001b[38;5;241;43m20\u001b[39;49m\u001b[43m)\u001b[49m\n\u001b[0;32m      6\u001b[0m     \u001b[38;5;28;01mreturn\u001b[39;00m \u001b[38;5;241m1\u001b[39m \u001b[38;5;241m/\u001b[39m (\u001b[38;5;241m1\u001b[39m \u001b[38;5;241m+\u001b[39m np\u001b[38;5;241m.\u001b[39mexp(\u001b[38;5;241m-\u001b[39mt))\n",
      "File \u001b[1;32m<__array_function__ internals>:5\u001b[0m, in \u001b[0;36mclip\u001b[1;34m(*args, **kwargs)\u001b[0m\n",
      "File \u001b[1;32m~\\anaconda3\\envs\\ML\\lib\\site-packages\\numpy\\core\\fromnumeric.py:2115\u001b[0m, in \u001b[0;36mclip\u001b[1;34m(a, a_min, a_max, out, **kwargs)\u001b[0m\n\u001b[0;32m   2046\u001b[0m \u001b[38;5;129m@array_function_dispatch\u001b[39m(_clip_dispatcher)\n\u001b[0;32m   2047\u001b[0m \u001b[38;5;28;01mdef\u001b[39;00m \u001b[38;5;21mclip\u001b[39m(a, a_min, a_max, out\u001b[38;5;241m=\u001b[39m\u001b[38;5;28;01mNone\u001b[39;00m, \u001b[38;5;241m*\u001b[39m\u001b[38;5;241m*\u001b[39mkwargs):\n\u001b[0;32m   2048\u001b[0m     \u001b[38;5;124;03m\"\"\"\u001b[39;00m\n\u001b[0;32m   2049\u001b[0m \u001b[38;5;124;03m    Clip (limit) the values in an array.\u001b[39;00m\n\u001b[0;32m   2050\u001b[0m \n\u001b[1;32m   (...)\u001b[0m\n\u001b[0;32m   2113\u001b[0m \n\u001b[0;32m   2114\u001b[0m \u001b[38;5;124;03m    \"\"\"\u001b[39;00m\n\u001b[1;32m-> 2115\u001b[0m     \u001b[38;5;28;01mreturn\u001b[39;00m _wrapfunc(a, \u001b[38;5;124m'\u001b[39m\u001b[38;5;124mclip\u001b[39m\u001b[38;5;124m'\u001b[39m, a_min, a_max, out\u001b[38;5;241m=\u001b[39mout, \u001b[38;5;241m*\u001b[39m\u001b[38;5;241m*\u001b[39mkwargs)\n",
      "File \u001b[1;32m~\\anaconda3\\envs\\ML\\lib\\site-packages\\numpy\\core\\fromnumeric.py:57\u001b[0m, in \u001b[0;36m_wrapfunc\u001b[1;34m(obj, method, *args, **kwds)\u001b[0m\n\u001b[0;32m     54\u001b[0m     \u001b[38;5;28;01mreturn\u001b[39;00m _wrapit(obj, method, \u001b[38;5;241m*\u001b[39margs, \u001b[38;5;241m*\u001b[39m\u001b[38;5;241m*\u001b[39mkwds)\n\u001b[0;32m     56\u001b[0m \u001b[38;5;28;01mtry\u001b[39;00m:\n\u001b[1;32m---> 57\u001b[0m     \u001b[38;5;28;01mreturn\u001b[39;00m bound(\u001b[38;5;241m*\u001b[39margs, \u001b[38;5;241m*\u001b[39m\u001b[38;5;241m*\u001b[39mkwds)\n\u001b[0;32m     58\u001b[0m \u001b[38;5;28;01mexcept\u001b[39;00m \u001b[38;5;167;01mTypeError\u001b[39;00m:\n\u001b[0;32m     59\u001b[0m     \u001b[38;5;66;03m# A TypeError occurs if the object does have such a method in its\u001b[39;00m\n\u001b[0;32m     60\u001b[0m     \u001b[38;5;66;03m# class, but its signature is not identical to that of NumPy's. This\u001b[39;00m\n\u001b[1;32m   (...)\u001b[0m\n\u001b[0;32m     64\u001b[0m     \u001b[38;5;66;03m# Call _wrapit from within the except clause to ensure a potential\u001b[39;00m\n\u001b[0;32m     65\u001b[0m     \u001b[38;5;66;03m# exception has a traceback chain.\u001b[39;00m\n\u001b[0;32m     66\u001b[0m     \u001b[38;5;28;01mreturn\u001b[39;00m _wrapit(obj, method, \u001b[38;5;241m*\u001b[39margs, \u001b[38;5;241m*\u001b[39m\u001b[38;5;241m*\u001b[39mkwds)\n",
      "File \u001b[1;32m~\\anaconda3\\envs\\ML\\lib\\site-packages\\numpy\\core\\_methods.py:159\u001b[0m, in \u001b[0;36m_clip\u001b[1;34m(a, min, max, out, casting, **kwargs)\u001b[0m\n\u001b[0;32m    156\u001b[0m     \u001b[38;5;28;01mreturn\u001b[39;00m _clip_dep_invoke_with_casting(\n\u001b[0;32m    157\u001b[0m         um\u001b[38;5;241m.\u001b[39mmaximum, a, \u001b[38;5;28mmin\u001b[39m, out\u001b[38;5;241m=\u001b[39mout, casting\u001b[38;5;241m=\u001b[39mcasting, \u001b[38;5;241m*\u001b[39m\u001b[38;5;241m*\u001b[39mkwargs)\n\u001b[0;32m    158\u001b[0m \u001b[38;5;28;01melse\u001b[39;00m:\n\u001b[1;32m--> 159\u001b[0m     \u001b[38;5;28;01mreturn\u001b[39;00m _clip_dep_invoke_with_casting(\n\u001b[0;32m    160\u001b[0m         um\u001b[38;5;241m.\u001b[39mclip, a, \u001b[38;5;28mmin\u001b[39m, \u001b[38;5;28mmax\u001b[39m, out\u001b[38;5;241m=\u001b[39mout, casting\u001b[38;5;241m=\u001b[39mcasting, \u001b[38;5;241m*\u001b[39m\u001b[38;5;241m*\u001b[39mkwargs)\n",
      "File \u001b[1;32m~\\anaconda3\\envs\\ML\\lib\\site-packages\\numpy\\core\\_methods.py:113\u001b[0m, in \u001b[0;36m_clip_dep_invoke_with_casting\u001b[1;34m(ufunc, out, casting, *args, **kwargs)\u001b[0m\n\u001b[0;32m    111\u001b[0m \u001b[38;5;66;03m# try to deal with broken casting rules\u001b[39;00m\n\u001b[0;32m    112\u001b[0m \u001b[38;5;28;01mtry\u001b[39;00m:\n\u001b[1;32m--> 113\u001b[0m     \u001b[38;5;28;01mreturn\u001b[39;00m ufunc(\u001b[38;5;241m*\u001b[39margs, out\u001b[38;5;241m=\u001b[39mout, \u001b[38;5;241m*\u001b[39m\u001b[38;5;241m*\u001b[39mkwargs)\n\u001b[0;32m    114\u001b[0m \u001b[38;5;28;01mexcept\u001b[39;00m _exceptions\u001b[38;5;241m.\u001b[39m_UFuncOutputCastingError \u001b[38;5;28;01mas\u001b[39;00m e:\n\u001b[0;32m    115\u001b[0m     \u001b[38;5;66;03m# Numpy 1.17.0, 2019-02-24\u001b[39;00m\n\u001b[0;32m    116\u001b[0m     warnings\u001b[38;5;241m.\u001b[39mwarn(\n\u001b[0;32m    117\u001b[0m         \u001b[38;5;124m\"\u001b[39m\u001b[38;5;124mConverting the output of clip from \u001b[39m\u001b[38;5;132;01m{!r}\u001b[39;00m\u001b[38;5;124m to \u001b[39m\u001b[38;5;132;01m{!r}\u001b[39;00m\u001b[38;5;124m is deprecated. \u001b[39m\u001b[38;5;124m\"\u001b[39m\n\u001b[0;32m    118\u001b[0m         \u001b[38;5;124m\"\u001b[39m\u001b[38;5;124mPass `casting=\u001b[39m\u001b[38;5;130;01m\\\"\u001b[39;00m\u001b[38;5;124munsafe\u001b[39m\u001b[38;5;130;01m\\\"\u001b[39;00m\u001b[38;5;124m` explicitly to silence this warning, or \u001b[39m\u001b[38;5;124m\"\u001b[39m\n\u001b[1;32m   (...)\u001b[0m\n\u001b[0;32m    121\u001b[0m         stacklevel\u001b[38;5;241m=\u001b[39m\u001b[38;5;241m2\u001b[39m\n\u001b[0;32m    122\u001b[0m     )\n",
      "\u001b[1;31mKeyboardInterrupt\u001b[0m: "
     ]
    }
   ],
   "source": [
    "cross_validation_reg_logistic_regression(y_bal, tx, k_fold, max_iters, lambdas, gammas, degrees)"
   ]
  },
  {
   "cell_type": "code",
   "execution_count": 251,
   "id": "0a591e3c",
   "metadata": {},
   "outputs": [],
   "source": [
    "initial_w = np.random.uniform(0,1,len(tx.T))"
   ]
  },
  {
   "cell_type": "code",
   "execution_count": 212,
   "id": "4d8d2d70",
   "metadata": {},
   "outputs": [
    {
     "data": {
      "text/plain": [
       "array([0.66756879, 0.21507458, 0.42512994, 0.25979745, 0.5482612 ,\n",
       "       0.12120566, 0.40109407, 0.52266424, 0.66399012, 0.68797437,\n",
       "       0.02574848, 0.31904886, 0.87852455, 0.47491064, 0.57743159,\n",
       "       0.25722418, 0.15969363, 0.12730288, 0.50304896, 0.26952168,\n",
       "       0.87000632, 0.5346475 , 0.73165716, 0.73359706, 0.88299016,\n",
       "       0.56769155, 0.76946812, 0.42270268, 0.84867666, 0.02780035])"
      ]
     },
     "execution_count": 212,
     "metadata": {},
     "output_type": "execute_result"
    }
   ],
   "source": [
    "initial_w"
   ]
  },
  {
   "cell_type": "code",
   "execution_count": 256,
   "id": "ca6a379e",
   "metadata": {},
   "outputs": [
    {
     "name": "stdout",
     "output_type": "stream",
     "text": [
      "[array([0.31994921, 0.33445323, 0.16126216, 0.39494692, 0.84394565,\n",
      "       0.22284416, 0.72329766, 0.96556015, 0.17875997, 0.18089605,\n",
      "       0.89835453, 0.74269883, 0.47244202, 0.69781485, 0.51932319,\n",
      "       0.11134055, 0.26564844])]\n",
      "[0.31994921 0.33445323 0.16126216 0.39494692 0.84394565 0.22284416\n",
      " 0.72329766 0.96556015 0.17875997 0.18089605 0.89835453 0.74269883\n",
      " 0.47244202 0.69781485 0.51932319 0.11134055 0.26564844]\n",
      "-34630.47936342942\n",
      "[0.30141817 0.30795475 0.15052544 0.4094701  0.84841376 0.23763323\n",
      " 0.73918186 0.96441776 0.19439216 0.19652186 0.88876938 0.7583355\n",
      " 0.4880543  0.69045979 0.53496356 0.02252541 0.28081964]\n",
      "-26140.27694252425\n",
      "[ 0.28363307  0.28392882  0.14218969  0.42258873  0.85252021  0.25098387\n",
      "  0.75356626  0.96379316  0.20851643  0.21063985  0.88007403  0.77246421\n",
      "  0.5021608   0.6839421   0.54909615 -0.05485332  0.29454888]\n",
      "-20167.984378513764\n",
      "[ 0.26649472  0.26197748  0.13608819  0.43456912  0.85639342  0.26317107\n",
      "  0.7667371   0.96366676  0.22142012  0.2235374   0.87218249  0.78537231\n",
      "  0.51504845  0.67823947  0.56200841 -0.12246377  0.30711235]\n",
      "-15916.365410157407\n",
      "[ 0.24990476  0.24171648  0.13192448  0.44565481  0.86011796  0.27444498\n",
      "  0.77895448  0.96398975  0.23336499  0.23547628  0.8649833   0.79732157\n",
      "  0.52697869  0.67327175  0.57396217 -0.18215089  0.31876034]\n",
      "-12826.15889134529\n",
      "[ 0.23377506  0.22281397  0.12935876  0.4560464   0.86374336  0.28501084\n",
      "  0.79043185  0.96469933  0.24456608  0.24667153  0.85836049  0.80852707\n",
      "  0.53816633  0.66893153  0.58517248 -0.23561564  0.32969787]\n",
      "-10524.356142677147\n",
      "[ 0.21803092  0.20500029  0.12806549  0.46589982  0.86729695  0.29502773\n",
      "  0.80133476  0.96573029  0.2551903   0.25729001  0.8522073   0.8191557\n",
      "  0.54877804  0.66510766  0.59580621 -0.28427728  0.34008382]\n",
      "-8766.965095268886\n",
      "[ 0.20261075  0.18806251  0.12776092  0.47533304  0.87079394  0.30461583\n",
      "  0.81178835  0.96702163  0.2653638   0.26745784  0.84643228  0.82933363\n",
      "  0.5589398   0.66169844  0.60598945 -0.329257    0.35003826]\n",
      "-7394.307566257131\n",
      "[ 0.18746433  0.17183416  0.12821139  0.48443464  0.87424332  0.31386526\n",
      "  0.82188656  0.96851995  0.27518124  0.27726967  0.84096039  0.83915553\n",
      "  0.56874614  0.65861713  0.61581683 -0.37141569  0.35965127]\n",
      "-6300.498158329279\n",
      "[ 0.17255056  0.1561852   0.12923196  0.49327121  0.87765102  0.32284379\n",
      "  0.83170009  0.97018105  0.28471384  0.28679669  0.83573157  0.84869259\n",
      "  0.57826818  0.65579294  0.62535951 -0.41140434  0.36899069]\n",
      "-5413.919344142744\n",
      "[ 0.15783552  0.14101366  0.13068027  0.50189322  0.88102135  0.33160277\n",
      "  0.8412826   0.97196978  0.29401559  0.29609288  0.83069835  0.85799882\n",
      "  0.58755982  0.65316975  0.63467147 -0.44971173  0.37810798]\n",
      "-4685.002382140203\n",
      "[ 0.14329104  0.12623898  0.13244902  0.51033937  0.88435776  0.34018159\n",
      "  0.85067532  0.97385891  0.30312791  0.30519966  0.82582351  0.86711563\n",
      "  0.59666244  0.65070398  0.6437941  -0.48670417  0.38704272]\n",
      "-4078.5599914952713\n",
      "[ 0.12889359  0.11179672  0.13445831  0.51863969  0.88766327  0.34861089\n",
      "  0.85991032  0.97582758  0.31208304  0.31414923  0.82107785  0.87607524\n",
      "  0.60560818  0.64836215  0.6527596  -0.52265707  0.39582568]\n",
      "-3568.9554054057426\n",
      "[ 0.11462339  0.09763464  0.13664894  0.52681786  0.89094068  0.35691481\n",
      "  0.86901295  0.97785985  0.32090636  0.32296701  0.81643839  0.88490305\n",
      "  0.61442241  0.64611866  0.66159336 -0.55777907  0.40448122]\n",
      "-3137.056893311183\n",
      "[ 0.10046366  0.08370963  0.13897707  0.53489279  0.89419262  0.36511267\n",
      "  0.8780035   0.97994335  0.32961822  0.33167332  0.81188685  0.8936194\n",
      "  0.62312542  0.64395383  0.6703157  -0.59223005  0.41302882]\n",
      "-2768.300837362582\n",
      "[ 0.08640005  0.06998576  0.14141009  0.5428798   0.89742158  0.37322015\n",
      "  0.88689845  0.98206838  0.33823509  0.34028463  0.80740856  0.90224074\n",
      "  0.63173367  0.64185248  0.67894307 -0.62613395  0.42148432]\n",
      "-2451.4226769667316\n",
      "[ 0.07242028  0.05643291  0.14392367  0.55079143  0.90062985  0.38125008\n",
      "  0.89571133  0.98422724  0.34677047  0.34881444  0.80299163  0.9107806\n",
      "  0.64026062  0.63980284  0.68748899 -0.65958795  0.42986072]\n",
      "-2177.589853178939\n",
      "[ 0.05851377  0.04302587  0.14649951  0.55863804  0.90381956  0.3892131\n",
      "  0.90445333  0.98641376  0.35523556  0.35727395  0.79862635  0.91925016\n",
      "  0.64871743  0.63779566  0.69596463 -0.69266911  0.43816879]\n",
      "-1939.793891479566\n",
      "[ 0.04467138  0.02974352  0.14912377  0.5664283   0.90699263  0.3971181\n",
      "  0.91313383  0.98862297  0.3636397   0.3656725   0.79430474  0.92765875\n",
      "  0.65711345  0.63582364  0.70437934 -0.7254391   0.44641757]\n",
      "-1732.4195058625703\n",
      "[ 0.0308852   0.01656824  0.15178583  0.5741695   0.9101508   0.40497256\n",
      "  0.92176074  0.99085095  0.37199076  0.37401795  0.79002021  0.93601426\n",
      "  0.6654565   0.63388091  0.71274097 -0.75794765  0.45461464]\n",
      "-1550.9189248179584\n",
      "[ 0.01714832  0.00348542  0.1544775   0.5818678   0.91329562  0.41278282\n",
      "  0.93034075  0.9930946   0.38029539  0.38231697  0.78576737  0.94432334\n",
      "  0.67375325  0.63196274  0.7210562  -0.79023508  0.46276646]\n",
      "-1391.5339789239124\n",
      "[ 0.00345475 -0.00951729  0.15719239  0.58952846  0.91642848  0.42055429\n",
      "  0.93887957  0.99535144  0.38855929  0.39057524  0.78154171  0.95259167\n",
      "  0.68200936  0.63006524  0.72933071 -0.82233452  0.47087853]\n",
      "-1251.1001263435016\n",
      "[-0.01020075 -0.02245062  0.15992552  0.59715601  0.9195506   0.4282916\n",
      "  0.94738211  0.99761924  0.39678733  0.39879763  0.77733932  0.96082415\n",
      "  0.6902297   0.62818517  0.73756936 -0.85427364  0.47895558]\n",
      "-1126.9591345331985\n",
      "[-0.02382271 -0.03532401  0.16267295  0.60475432  0.92266309  0.43599875\n",
      "  0.95585263  0.99989604  0.40498373  0.40698838  0.7731568   0.96902497\n",
      "  0.69841847  0.6263198   0.74577639 -0.88607577  0.48700172]\n",
      "-1016.8928405103178\n",
      "[-0.03741515 -0.04814545  0.16543158  0.61232677  0.92576691  0.44367923\n",
      "  0.96429479  1.00218023  0.41315212  0.41515111  0.76899126  0.97719778\n",
      "  0.7065793   0.62446686  0.75395541 -0.91776042  0.49502046]\n",
      "-919.0440190398348\n",
      "[-0.05098153 -0.06092171  0.16819893  0.61987628  0.92886293  0.45133604\n",
      "  0.97271178  1.00447051  0.42129568  0.423289    0.7648403   0.98534575\n",
      "  0.71471535  0.62262446  0.76210961 -0.94934391  0.5030149 ]\n",
      "-831.8459434504892\n",
      "[-0.0645249  -0.07365849  0.17097302  0.6274054   0.93195191  0.45897179\n",
      "  0.98110638  1.00676587  0.42941714  0.43140479  0.7607019   0.99347164\n",
      "  0.72282937  0.62079103  0.77024172 -0.98083995  0.51098771]\n",
      "-753.9677645167508\n",
      "[-0.07804794 -0.08636067  0.1737523   0.63491635  0.93503454  0.46658878\n",
      "  0.98948102  1.00906546  0.43751893  0.43950089  0.75657436  1.00157783\n",
      "  0.73092376  0.61896525  0.77835416 -1.01226012  0.51894124]\n",
      "-684.2723572486091\n",
      "[-0.09155297 -0.09903244  0.17653551  0.64241108  0.93811142  0.47418901\n",
      "  0.99783783  1.01136862  0.44560315  0.44757943  0.75245624  1.00966646\n",
      "  0.73900062  0.61714602  0.78644903 -1.04361429  0.52687754]\n",
      "-621.7831479701368\n",
      "[-0.10504201 -0.11167741  0.17932165  0.64989129  0.94118311  0.48177426\n",
      "  1.0061787   1.01367478  0.45367165  0.45564223  0.7483463   1.01773936\n",
      "  0.74706179  0.61533241  0.79452819 -1.07491088  0.53479842]\n",
      "-565.6576036297728\n",
      "[-0.11851684 -0.1242987   0.18210993  0.65735851  0.94425009  0.48934607\n",
      "  1.01450526  1.01598348  0.46172607  0.46369096  0.7442435   1.02579818\n",
      "  0.75510892  0.61352364  0.80259326 -1.10615709  0.54270547]\n",
      "-515.1659345142752\n",
      "[-0.13197902 -0.13689903  0.18489973  0.66481406  0.94731281  0.49690583\n",
      "  1.02281897  1.01829434  0.46976784  0.47172703  0.74014694  1.03384435\n",
      "  0.76314343  0.61171906  0.8106457  -1.13735911  0.55060012]\n",
      "-469.6737552658981\n",
      "[-0.1454299  -0.14948075  0.18769055  0.67225911  0.95037168  0.50445474\n",
      "  1.03112114  1.02060705  0.47779825  0.47975174  0.73605584  1.04187916\n",
      "  0.7711666   0.60991811  0.81868677 -1.1685223   0.55848359]\n",
      "-428.6278479861112\n",
      "[-0.15887068 -0.16204593  0.19048198  0.67969472  0.95342706  0.51199389\n",
      "  1.03941291  1.02292134  0.48581843  0.48776621  0.73196954  1.04990373\n",
      "  0.77917956  0.60812032  0.82671761 -1.19965125  0.56635701]\n",
      "-391.54435772601937\n",
      "[-0.17230242 -0.17459636  0.19327373  0.68712181  0.95647928  0.51952424\n",
      "  1.04769529  1.025237    0.49382939  0.49577146  0.72788747  1.05791907\n",
      "  0.78718332  0.6063253   0.83473922 -1.23074999  0.57422136]\n",
      "-357.9988634806553\n",
      "[-0.18572605 -0.18713363  0.19606555  0.69454122  0.95952864  0.52704663\n",
      "  1.0559692   1.02755385  0.50183201  0.50376837  0.72380912  1.06592608\n",
      "  0.79517877  0.60453268  0.84275251 -1.26182199  0.58207751]\n",
      "-327.61810025907477\n",
      "[-0.19914238 -0.19965913  0.19885725  0.70195368  0.9625754   0.53456184\n",
      "  1.06423545  1.02987171  0.50982711  0.51175776  0.71973407  1.07392556\n",
      "  0.80316671  0.60274219  0.85075827 -1.2928703   0.58992626]\n",
      "-300.07294697414756\n",
      "[-0.21255216 -0.2121741   0.20164869  0.70935985  0.9656198   0.54207054\n",
      "  1.07249476  1.03219047  0.51781539  0.51974032  0.71566193  1.08191823\n",
      "  0.81114786  0.60095356  0.85875722 -1.32389758  0.5977683 ]\n",
      "-275.07249295332156\n",
      "[-0.22595604 -0.22467963  0.20443976  0.71676032  0.96866207  0.54957336\n",
      "  1.08074779  1.03450999  0.5257975   0.52771672  0.71159238  1.08990473\n",
      "  0.81912284  0.59916656  0.86675    -1.35490617  0.60560426]\n",
      "-252.35902677434188\n"
     ]
    },
    {
     "name": "stdout",
     "output_type": "stream",
     "text": [
      "[-0.2393546  -0.23717667  0.20723037  0.72415563  0.97170237  0.55707083\n",
      "  1.08899512  1.03683018  0.53377402  0.53568752  0.70752513  1.09788562\n",
      "  0.82709225  0.59738099  0.87473718 -1.38589813  0.61343471]\n",
      "-231.70377821637445\n",
      "[-0.25274837 -0.24966608  0.21002047  0.73154625  0.97474089  0.56456345\n",
      "  1.09723728  1.03915094  0.54174546  0.54365324  0.70345993  1.10586144\n",
      "  0.83505658  0.59559667  0.88271928 -1.41687526  0.62126016]\n",
      "-212.9032346797967\n",
      "[-0.26613782 -0.26214862  0.21281     0.73893261  0.97777777  0.57205166\n",
      "  1.10547473  1.0414722   0.54971229  0.55161434  0.69939655  1.11383264\n",
      "  0.84301632  0.59381346  0.89069677 -1.44783917  0.62908105]\n",
      "-195.77606318614588\n",
      "[-0.27952336 -0.27462498  0.21559895  0.74631511  0.98081314  0.57953586\n",
      "  1.11370791  1.04379387  0.55767492  0.55957125  0.69533479  1.12179965\n",
      "  0.85097187  0.5920312   0.89867007 -1.47879128  0.63689781]\n",
      "-180.16039696206713\n",
      "[-0.29290537 -0.28709576  0.2183873   0.75369407  0.98384714  0.58701642\n",
      "  1.1219372   1.0461159   0.56563373  0.56752434  0.69127449  1.12976284\n",
      "  0.85892361  0.59024977  0.90663954 -1.50973283  0.64471081]\n",
      "-165.9115101950388\n",
      "[-0.30628419 -0.2995615   0.22117503  0.76106983  0.98687986  0.59449366\n",
      "  1.13016294  1.04843824  0.57358907  0.57547395  0.6872155   1.13772255\n",
      "  0.86687188  0.58846908  0.91460554 -1.54066494  0.65252037]\n",
      "-152.89985878558758\n",
      "[-0.31966012 -0.31202269  0.22396216  0.76844267  0.98991141  0.60196787\n",
      "  1.13838544  1.05076084  0.58154124  0.58342039  0.68315767  1.14567909\n",
      "  0.87481699  0.58668903  0.92256837 -1.57158859  0.66032681]\n",
      "-141.0092723945734\n",
      "[-0.33303343 -0.32447975  0.22674869  0.77581283  0.99294188  0.60943932\n",
      "  1.146605    1.05308366  0.58949051  0.59136394  0.67910088  1.15363274\n",
      "  0.88275921  0.58490954  0.93052831 -1.60250465  0.66813039]\n",
      "-130.13546008816235\n",
      "[-0.34640437 -0.33693308  0.22953462  0.78318056  0.99597135  0.61690825\n",
      "  1.15482186  1.05540667  0.59743715  0.59930485  0.67504504  1.16158375\n",
      "  0.89069881  0.58313055  0.93848561 -1.63341391  0.67593137]\n",
      "-120.184675024656\n",
      "[-0.35977315 -0.34938302  0.23231999  0.79054607  0.9989999   0.62437487\n",
      "  1.16303626  1.05772983  0.60538138  0.60724335  0.67099004  1.16953235\n",
      "  0.898636    0.58135197  0.9464405  -1.66431703  0.68372996]\n",
      "-111.07257974816012\n",
      "[-0.37313998 -0.36182989  0.23510479  0.79790954  1.00202761  0.63183939\n",
      "  1.17124841  1.06005313  0.61332341  0.61517964  0.6669358   1.17747874\n",
      "  0.90657099  0.57957378  0.95439319 -1.69521466  0.69152638]\n",
      "-102.72316943127137\n",
      "[-0.38650502 -0.37427398  0.23788906  0.80527115  1.00505452  0.63930198\n",
      "  1.17945849  1.06237654  0.62126342  0.62311392  0.66288225  1.18542312\n",
      "  0.91450396  0.57779591  0.96234386 -1.72610732  0.6993208 ]\n",
      "-95.0679076136263\n",
      "[-0.39986845 -0.38671552  0.24067282  0.81263106  1.00808071  0.6467628\n",
      "  1.1876667   1.06470005  0.62920158  0.63104635  0.65882932  1.19336565\n",
      "  0.9224351   0.57601833  0.97029268 -1.75699552  0.7071134 ]\n",
      "-88.04489663563618\n",
      "[-0.4132304  -0.39915477  0.24345608  0.8199894   1.01110621  0.65422201\n",
      "  1.19587317  1.06702363  0.63713805  0.63897709  0.65477694  1.20130649\n",
      "  0.93036455  0.57424101  0.97823981 -1.7878797   0.71490433]\n",
      "-81.59824928791777\n",
      "[-0.426591   -0.41159191  0.24623886  0.82734632  1.01413109  0.66167974\n",
      "  1.20407806  1.06934728  0.64507297  0.64690628  0.65072507  1.20924578\n",
      "  0.93829246  0.5724639   0.98618539 -1.81876023  0.72269372]\n",
      "-75.6773891620954\n",
      "[-0.43995039 -0.42402715  0.24902121  0.83470192  1.01715538  0.66913611\n",
      "  1.2122815   1.07167098  0.65300648  0.65483404  0.64667365  1.21718365\n",
      "  0.94621894  0.57068699  0.99412955 -1.84963749  0.73048171]\n",
      "-70.23652121749235\n",
      "[-0.45330866 -0.43646064  0.25180312  0.84205632  1.02017913  0.67659123\n",
      "  1.22048361  1.07399472  0.66093867  0.66276051  0.64262264  1.22512021\n",
      "  0.95414413  0.56891024  1.0020724  -1.88051177  0.73826841]\n",
      "-65.23417275410948\n",
      "[-0.46666591 -0.44889254  0.25458463  0.84940961  1.02320237  0.68404521\n",
      "  1.22868449  1.0763185   0.66886968  0.67068577  0.638572    1.23305557\n",
      "  0.96206812  0.56713364  1.01001406 -1.91138337  0.74605392]\n",
      "-60.63268476120766\n",
      "[-0.48002223 -0.46132299  0.25736575  0.85676189  1.02622513  0.69149814\n",
      "  1.23688424  1.07864231  0.67679958  0.67860994  0.6345217   1.24098984\n",
      "  0.96999101  0.56535717  1.01795461 -1.94225254  0.75383834]\n",
      "-56.39786358654803\n",
      "[-0.49337771 -0.47375212  0.26014651  0.86411324  1.02924745  0.6989501\n",
      "  1.24508296  1.08096614  0.68472847  0.68653309  0.63047171  1.24892309\n",
      "  0.9779129   0.56358081  1.02589416 -1.97311951  0.76162177]\n",
      "-52.498674234106815\n",
      "[-0.50673241 -0.48618003  0.26292693  0.87146373  1.03226935  0.70640117\n",
      "  1.25328073  1.08328998  0.69265643  0.69445531  0.62642199  1.25685542\n",
      "  0.98583386  0.56180454  1.03383278 -2.00398448  0.76940427]\n",
      "-48.90692277905068\n",
      "[-0.52008641 -0.49860684  0.26570703  0.87881342  1.03529087  0.71385142\n",
      "  1.26147762  1.08561384  0.70058354  0.70237668  0.62237252  1.26478689\n",
      "  0.99375396  0.56002836  1.04177054 -2.03484765  0.77718592]\n",
      "-45.596930060713866\n",
      "[-0.53343976 -0.51103264  0.26848681  0.8861624   1.03831203  0.72130093\n",
      "  1.26967371  1.0879377   0.70850985  0.71029726  0.61832328  1.27271757\n",
      "  1.00167328  0.55825225  1.04970751 -2.06570917  0.7849668 ]\n",
      "-42.54529641807667\n",
      "[-0.54679252 -0.5234575   0.27126631  0.8935107   1.04133285  0.72874973\n",
      "  1.27786905  1.09026157  0.71643545  0.71821711  0.61427424  1.28064752\n",
      "  1.00959188  0.55647621  1.05764376 -2.0965692   0.79274696]\n",
      "-39.730681928211716\n",
      "[-0.56014474 -0.53588152  0.27404554  0.90085838  1.04435335  0.7361979\n",
      "  1.28606371  1.09258545  0.72436037  0.7261363   0.61022539  1.28857681\n",
      "  1.01750981  0.55470021  1.06557934 -2.12742788  0.80052645]\n",
      "-37.13366798383821\n",
      "[-0.57349646 -0.54830476  0.27682451  0.9082055   1.04737356  0.74364548\n",
      "  1.29425774  1.09490932  0.73228468  0.73405487  0.60617671  1.29650548\n",
      "  1.02542712  0.55292427  1.0735143  -2.15828532  0.80830533]\n",
      "-34.73657668367786\n",
      "[-0.58684773 -0.56072728  0.27960324  0.91555209  1.05039349  0.75109251\n",
      "  1.30245119  1.09723319  0.74020842  0.74197287  0.60212819  1.30443358\n",
      "  1.03334387  0.55114836  1.08144869 -2.18914164  0.81608365]\n",
      "-32.52318806403652\n",
      "[-0.60019858 -0.57314915  0.28238175  0.9228982   1.05341316  0.75853905\n",
      "  1.3106441   1.09955705  0.74813164  0.74989034  0.59807981  1.31236116\n",
      "  1.0412601   0.54937249  1.08938256 -2.21999694  0.82386145]\n",
      "-30.47871424529992\n",
      "[-0.61354905 -0.58557041  0.28516004  0.93024386  1.05643258  0.76598512\n",
      "  1.31883651  1.10188092  0.75605437  0.75780734  0.59403155  1.32028825\n",
      "  1.04917584  0.54759664  1.09731595 -2.25085131  0.83163877]\n",
      "-28.58962345629516\n",
      "[-0.62689917 -0.59799113  0.28793813  0.93758911  1.05945179  0.77343076\n",
      "  1.32702846  1.10420477  0.76397665  0.76572388  0.58998341  1.32821489\n",
      "  1.05709113  0.54582082  1.10524889 -2.28170484  0.83941565]\n",
      "-26.84355980911959\n",
      "[-0.64024897 -0.61041133  0.29071604  0.94493397  1.06247077  0.78087601\n",
      "  1.33522     1.10652862  0.77189853  0.77364001  0.58593538  1.33614113\n",
      "  1.06500602  0.54404502  1.11318141 -2.31255759  0.84719211]\n",
      "-25.2291683267202\n",
      "[-0.65359847 -0.62283107  0.29349376  0.95227849  1.06548957  0.78832089\n",
      "  1.34341113  1.10885246  0.77982001  0.78155576  0.58188744  1.34406698\n",
      "  1.07292052  0.54226924  1.12111355 -2.34340964  0.8549682 ]\n",
      "-23.736113577774827\n",
      "[-0.6669477  -0.63525037  0.29627132  0.95962267  1.06850817  0.79576543\n",
      "  1.35160191  1.1111763   0.78774115  0.78947115  0.5778396   1.35199247\n",
      "  1.08083467  0.54049347  1.12904534 -2.37426104  0.86274393]\n",
      "-22.354873616275746\n",
      "[-0.68029668 -0.64766928  0.29904873  0.96696656  1.0715266   0.80320966\n",
      "  1.35979235  1.11350013  0.79566196  0.79738622  0.57379183  1.35991764\n",
      "  1.08874849  0.53871772  1.1369768  -2.40511186  0.87051935]\n",
      "-21.07675164659459\n",
      "[-0.69364542 -0.66008783  0.30182599  0.97431017  1.07454487  0.8106536\n",
      "  1.36798248  1.11582395  0.80358247  0.80530098  0.56974414  1.36784251\n",
      "  1.09666201  0.53694197  1.14490796 -2.43596214  0.87829446]\n",
      "-19.893765259120183\n",
      "[-0.70699396 -0.67250604  0.30460311  0.98165351  1.07756299  0.81809728\n",
      "  1.37617233  1.11814776  0.81150269  0.81321547  0.56569651  1.37576709\n",
      "  1.10457526  0.53516623  1.15283884 -2.46681193  0.88606929]\n",
      "-18.79857924822486\n",
      "[-0.7203423  -0.68492394  0.3073801   0.98899662  1.08058096  0.8255407\n",
      "  1.38436191  1.12047156  0.81942266  0.82112969  0.56164895  1.38369142\n",
      "  1.11248824  0.5333905   1.16076946 -2.49766127  0.89384387]\n",
      "-17.784489334423807\n",
      "[-0.73369046 -0.69734156  0.31015697  0.99633951  1.0835988   0.8329839\n",
      "  1.39255124  1.12279535  0.82734239  0.82904367  0.55760144  1.3916155\n",
      "  1.12040098  0.53161477  1.16869984 -2.5285102   0.9016182 ]\n",
      "-16.84531790948591\n",
      "[-0.74703846 -0.70975891  0.31293373  1.00368219  1.08661652  0.84042688\n",
      "  1.40074034  1.12511914  0.83526189  0.83695744  0.55355398  1.39953937\n",
      "  1.1283135   0.52983904  1.17663    -2.55935875  0.90939232]\n",
      "-15.975333143987816\n",
      "[-0.7603863  -0.72217602  0.31571038  1.01102468  1.08963412  0.84786966\n",
      "  1.40892923  1.12744292  0.84318118  0.84487099  0.54950658  1.40746302\n",
      "  1.13622582  0.52806332  1.18455995 -2.59020696  0.91716623]\n"
     ]
    },
    {
     "name": "stdout",
     "output_type": "stream",
     "text": [
      "-15.169319556484789\n",
      "[-0.773734   -0.7345929   0.31848693  1.01836699  1.09265161  0.85531226\n",
      "  1.41711792  1.12976669  0.85110029  0.85278435  0.54545921  1.41538649\n",
      "  1.14413794  0.5262876   1.19248971 -2.62105485  0.92493994]\n",
      "-14.422423163200978\n"
     ]
    }
   ],
   "source": [
    "l,ws = logistic_regression(y, tx, initial_w, 80, 0.05)"
   ]
  },
  {
   "cell_type": "code",
   "execution_count": 260,
   "id": "68a5c5db",
   "metadata": {},
   "outputs": [
    {
     "name": "stdout",
     "output_type": "stream",
     "text": [
      "[0.32129584 0.25757443 0.70795224 ... 0.22966598 0.09979803 0.20661541]\n",
      "-170624.0\n"
     ]
    },
    {
     "data": {
      "text/plain": [
       "62.046"
      ]
     },
     "execution_count": 260,
     "metadata": {},
     "output_type": "execute_result"
    }
   ],
   "source": [
    "idx = np.argmax(l)\n",
    "w = ws[idx]\n",
    "y_pred = predict_logistic(tx, initial_w)\n",
    "print(y_pred.sum())\n",
    "compute_accuracy(y_pred, y)"
   ]
  },
  {
   "cell_type": "code",
   "execution_count": 185,
   "id": "7450f8a1",
   "metadata": {},
   "outputs": [],
   "source": [
    "def predict_logistic(x: np.ndarray, w: np.ndarray) -> np.ndarray:\n",
    "    y_pred = sigmoid(x @ w)\n",
    "    print(y_pred)\n",
    "    y_pred[np.where(y_pred <= 0.5)] = -1\n",
    "    y_pred[np.where(y_pred > 0.5)] = 1\n",
    "    return y_pred"
   ]
  },
  {
   "cell_type": "code",
   "execution_count": 292,
   "id": "e5c3cd6a",
   "metadata": {},
   "outputs": [],
   "source": [
    "l, w = gradient_descent(y, tx, initial_w, 50, 0.1)"
   ]
  },
  {
   "cell_type": "code",
   "execution_count": 293,
   "id": "6d2f32c4",
   "metadata": {},
   "outputs": [
    {
     "name": "stdout",
     "output_type": "stream",
     "text": [
      "Unexpected exception formatting exception. Falling back to standard exception\n"
     ]
    },
    {
     "name": "stderr",
     "output_type": "stream",
     "text": [
      "Traceback (most recent call last):\n",
      "  File \"C:\\Users\\basti\\anaconda3\\envs\\ML\\lib\\site-packages\\IPython\\core\\interactiveshell.py\", line 3369, in run_code\n",
      "    exec(code_obj, self.user_global_ns, self.user_ns)\n",
      "  File \"C:\\Users\\basti\\AppData\\Local\\Temp\\ipykernel_14864\\3297127648.py\", line 3, in <cell line: 3>\n",
      "    y_pred = predict_y(tx, w)\n",
      "  File \"C:\\Users\\basti\\ML\\The_MadLads\\helper.py\", line 233, in predict_y\n",
      "    y_pred = tx@w\n",
      "ValueError: matmul: Input operand 1 has a mismatch in its core dimension 0, with gufunc signature (n?,k),(k,m?)->(n?,m?) (size 51 is different from 17)\n",
      "\n",
      "During handling of the above exception, another exception occurred:\n",
      "\n",
      "Traceback (most recent call last):\n",
      "  File \"C:\\Users\\basti\\anaconda3\\envs\\ML\\lib\\site-packages\\IPython\\core\\interactiveshell.py\", line 1982, in showtraceback\n",
      "    stb = self.InteractiveTB.structured_traceback(\n",
      "  File \"C:\\Users\\basti\\anaconda3\\envs\\ML\\lib\\site-packages\\IPython\\core\\ultratb.py\", line 1118, in structured_traceback\n",
      "    return FormattedTB.structured_traceback(\n",
      "  File \"C:\\Users\\basti\\anaconda3\\envs\\ML\\lib\\site-packages\\IPython\\core\\ultratb.py\", line 1012, in structured_traceback\n",
      "    return VerboseTB.structured_traceback(\n",
      "  File \"C:\\Users\\basti\\anaconda3\\envs\\ML\\lib\\site-packages\\IPython\\core\\ultratb.py\", line 865, in structured_traceback\n",
      "    formatted_exception = self.format_exception_as_a_whole(etype, evalue, etb, number_of_lines_of_context,\n",
      "  File \"C:\\Users\\basti\\anaconda3\\envs\\ML\\lib\\site-packages\\IPython\\core\\ultratb.py\", line 818, in format_exception_as_a_whole\n",
      "    frames.append(self.format_record(r))\n",
      "  File \"C:\\Users\\basti\\anaconda3\\envs\\ML\\lib\\site-packages\\IPython\\core\\ultratb.py\", line 736, in format_record\n",
      "    result += ''.join(_format_traceback_lines(frame_info.lines, Colors, self.has_colors, lvals))\n",
      "  File \"C:\\Users\\basti\\anaconda3\\envs\\ML\\lib\\site-packages\\stack_data\\utils.py\", line 145, in cached_property_wrapper\n",
      "    value = obj.__dict__[self.func.__name__] = self.func(obj)\n",
      "  File \"C:\\Users\\basti\\anaconda3\\envs\\ML\\lib\\site-packages\\stack_data\\core.py\", line 698, in lines\n",
      "    pieces = self.included_pieces\n",
      "  File \"C:\\Users\\basti\\anaconda3\\envs\\ML\\lib\\site-packages\\stack_data\\utils.py\", line 145, in cached_property_wrapper\n",
      "    value = obj.__dict__[self.func.__name__] = self.func(obj)\n",
      "  File \"C:\\Users\\basti\\anaconda3\\envs\\ML\\lib\\site-packages\\stack_data\\core.py\", line 649, in included_pieces\n",
      "    pos = scope_pieces.index(self.executing_piece)\n",
      "  File \"C:\\Users\\basti\\anaconda3\\envs\\ML\\lib\\site-packages\\stack_data\\utils.py\", line 145, in cached_property_wrapper\n",
      "    value = obj.__dict__[self.func.__name__] = self.func(obj)\n",
      "  File \"C:\\Users\\basti\\anaconda3\\envs\\ML\\lib\\site-packages\\stack_data\\core.py\", line 628, in executing_piece\n",
      "    return only(\n",
      "  File \"C:\\Users\\basti\\anaconda3\\envs\\ML\\lib\\site-packages\\executing\\executing.py\", line 164, in only\n",
      "    raise NotOneValueFound('Expected one value, found 0')\n",
      "executing.executing.NotOneValueFound: Expected one value, found 0\n"
     ]
    }
   ],
   "source": [
    "idx = np.argmin(l)\n",
    "weight = w[idx]\n",
    "y_pred = predict_y(tx, w)"
   ]
  },
  {
   "cell_type": "code",
   "execution_count": null,
   "id": "c87837d0",
   "metadata": {},
   "outputs": [],
   "source": [
    "y_pred.sum()"
   ]
  },
  {
   "cell_type": "code",
   "execution_count": null,
   "id": "cd1929fd",
   "metadata": {},
   "outputs": [],
   "source": []
  }
 ],
 "metadata": {
  "kernelspec": {
   "display_name": "Python 3 (ipykernel)",
   "language": "python",
   "name": "python3"
  },
  "language_info": {
   "codemirror_mode": {
    "name": "ipython",
    "version": 3
   },
   "file_extension": ".py",
   "mimetype": "text/x-python",
   "name": "python",
   "nbconvert_exporter": "python",
   "pygments_lexer": "ipython3",
   "version": "3.9.12"
  }
 },
 "nbformat": 4,
 "nbformat_minor": 5
}
