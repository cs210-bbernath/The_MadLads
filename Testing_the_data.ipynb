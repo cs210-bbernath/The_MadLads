{
 "cells": [
  {
   "cell_type": "code",
   "execution_count": 41,
   "id": "2fd0d97f",
   "metadata": {},
   "outputs": [],
   "source": [
    "import numpy as np\n",
    "import matplotlib as plt\n",
    "from hilp import load_csv_data\n",
    "from helper import *"
   ]
  },
  {
   "cell_type": "code",
   "execution_count": 40,
   "id": "3351eeee",
   "metadata": {},
   "outputs": [],
   "source": [
    "yb, input_data, ids = load_csv_data('data/test.csv')"
   ]
  },
  {
   "cell_type": "code",
   "execution_count": 45,
   "id": "0380fb97",
   "metadata": {},
   "outputs": [
    {
     "data": {
      "text/plain": [
       "(568238, 30)"
      ]
     },
     "execution_count": 45,
     "metadata": {},
     "output_type": "execute_result"
    }
   ],
   "source": [
    "input_data.shape"
   ]
  },
  {
   "cell_type": "code",
   "execution_count": 47,
   "id": "cb806382",
   "metadata": {},
   "outputs": [],
   "source": [
    "initial_w = np.zeros(30)"
   ]
  },
  {
   "cell_type": "code",
   "execution_count": 48,
   "id": "e4390250",
   "metadata": {},
   "outputs": [
    {
     "ename": "NameError",
     "evalue": "name 'compute_loss' is not defined",
     "output_type": "error",
     "traceback": [
      "\u001b[1;31m---------------------------------------------------------------------------\u001b[0m",
      "\u001b[1;31mNameError\u001b[0m                                 Traceback (most recent call last)",
      "Input \u001b[1;32mIn [48]\u001b[0m, in \u001b[0;36m<cell line: 1>\u001b[1;34m()\u001b[0m\n\u001b[1;32m----> 1\u001b[0m \u001b[43mgradient_descent\u001b[49m\u001b[43m(\u001b[49m\u001b[43myb\u001b[49m\u001b[43m,\u001b[49m\u001b[43m \u001b[49m\u001b[43minput_data\u001b[49m\u001b[43m,\u001b[49m\u001b[43m \u001b[49m\u001b[43minitial_w\u001b[49m\u001b[43m,\u001b[49m\u001b[43m \u001b[49m\u001b[43mmax_iters\u001b[49m\u001b[38;5;241;43m=\u001b[39;49m\u001b[38;5;241;43m15\u001b[39;49m\u001b[43m,\u001b[49m\u001b[43m \u001b[49m\u001b[43mgamma\u001b[49m\u001b[43m \u001b[49m\u001b[38;5;241;43m=\u001b[39;49m\u001b[43m \u001b[49m\u001b[38;5;241;43m0.1\u001b[39;49m\u001b[43m)\u001b[49m\n",
      "File \u001b[1;32m~\\ML\\The_MadLads\\helper.py:53\u001b[0m, in \u001b[0;36mgradient_descent\u001b[1;34m(y, tx, initial_w, max_iters, gamma)\u001b[0m\n\u001b[0;32m     50\u001b[0m gradient \u001b[38;5;241m=\u001b[39m compute_gradient(y, tx, w)\n\u001b[0;32m     52\u001b[0m \u001b[38;5;66;03m# compute loss\u001b[39;00m\n\u001b[1;32m---> 53\u001b[0m loss \u001b[38;5;241m=\u001b[39m \u001b[43mcompute_loss\u001b[49m(y, tx, w)\n\u001b[0;32m     55\u001b[0m \u001b[38;5;66;03m# update w by gradient\u001b[39;00m\n\u001b[0;32m     56\u001b[0m w \u001b[38;5;241m=\u001b[39m w \u001b[38;5;241m-\u001b[39m (gamma \u001b[38;5;241m*\u001b[39m gradient)\n",
      "\u001b[1;31mNameError\u001b[0m: name 'compute_loss' is not defined"
     ]
    }
   ],
   "source": [
    "gradient_descent(yb, input_data, initial_w, max_iters=15, gamma = 0.1)"
   ]
  },
  {
   "cell_type": "code",
   "execution_count": 13,
   "id": "8d1b52e9",
   "metadata": {},
   "outputs": [],
   "source": [
    "x = ja[0]\n",
    "y= ja[1]"
   ]
  },
  {
   "cell_type": "code",
   "execution_count": 15,
   "id": "84ba01c3",
   "metadata": {},
   "outputs": [
    {
     "data": {
      "text/plain": [
       "array([0., 1., 1., ..., 0., 1., 1.])"
      ]
     },
     "execution_count": 15,
     "metadata": {},
     "output_type": "execute_result"
    }
   ],
   "source": [
    "y"
   ]
  }
 ],
 "metadata": {
  "kernelspec": {
   "display_name": "Python 3 (ipykernel)",
   "language": "python",
   "name": "python3"
  },
  "language_info": {
   "codemirror_mode": {
    "name": "ipython",
    "version": 3
   },
   "file_extension": ".py",
   "mimetype": "text/x-python",
   "name": "python",
   "nbconvert_exporter": "python",
   "pygments_lexer": "ipython3",
   "version": "3.9.12"
  }
 },
 "nbformat": 4,
 "nbformat_minor": 5
}
