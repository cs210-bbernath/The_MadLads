{
 "cells": [
  {
   "cell_type": "code",
   "execution_count": 8,
   "id": "2fd0d97f",
   "metadata": {},
   "outputs": [],
   "source": [
    "import numpy as np\n",
    "import matplotlib as plt\n",
    "from hilp import load_csv_data\n",
    "from helper import *"
   ]
  },
  {
   "cell_type": "code",
   "execution_count": 9,
   "id": "3351eeee",
   "metadata": {},
   "outputs": [],
   "source": [
    "yb, input_data, ids = load_csv_data('data/test.csv')"
   ]
  },
  {
   "cell_type": "code",
   "execution_count": 3,
   "id": "0380fb97",
   "metadata": {},
   "outputs": [
    {
     "data": {
      "text/plain": [
       "(568238, 30)"
      ]
     },
     "execution_count": 3,
     "metadata": {},
     "output_type": "execute_result"
    }
   ],
   "source": [
    "input_data.shape"
   ]
  },
  {
   "cell_type": "code",
   "execution_count": 12,
   "id": "cb806382",
   "metadata": {},
   "outputs": [],
   "source": [
    "input_data[input_data == -999] = np.nan"
   ]
  },
  {
   "cell_type": "code",
   "execution_count": 37,
   "id": "b7679321",
   "metadata": {},
   "outputs": [
    {
     "data": {
      "text/plain": [
       "array([False, False, False, ..., False, False, False])"
      ]
     },
     "execution_count": 37,
     "metadata": {},
     "output_type": "execute_result"
    }
   ],
   "source": [
    "to_keep = ~(np.any(np.isnan(input_data), axis=1))\n",
    "to_keep"
   ]
  },
  {
   "cell_type": "code",
   "execution_count": 38,
   "id": "795fd8f4",
   "metadata": {},
   "outputs": [],
   "source": [
    "input_data_to_keep = input_data[to_keep, :]"
   ]
  },
  {
   "cell_type": "code",
   "execution_count": 39,
   "id": "b9394d8f",
   "metadata": {},
   "outputs": [
    {
     "data": {
      "text/plain": [
       "(155460, 30)"
      ]
     },
     "execution_count": 39,
     "metadata": {},
     "output_type": "execute_result"
    }
   ],
   "source": [
    "input_data_to_keep.shape"
   ]
  }
 ],
 "metadata": {
  "kernelspec": {
   "display_name": "Python 3 (ipykernel)",
   "language": "python",
   "name": "python3"
  },
  "language_info": {
   "codemirror_mode": {
    "name": "ipython",
    "version": 3
   },
   "file_extension": ".py",
   "mimetype": "text/x-python",
   "name": "python",
   "nbconvert_exporter": "python",
   "pygments_lexer": "ipython3",
   "version": "3.9.10"
  }
 },
 "nbformat": 4,
 "nbformat_minor": 5
}
