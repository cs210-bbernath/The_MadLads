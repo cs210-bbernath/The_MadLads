{
 "cells": [
  {
   "cell_type": "code",
   "execution_count": 1,
   "id": "2fd0d97f",
   "metadata": {},
   "outputs": [],
   "source": [
    "import numpy as np\n",
    "import matplotlib as plt\n",
    "from helper import *"
   ]
  },
  {
   "cell_type": "code",
   "execution_count": 31,
   "id": "3351eeee",
   "metadata": {},
   "outputs": [],
   "source": [
    "data = np.genfromtxt(\n",
    "        \"data/train.csv\", delimiter=\",\", skip_header=1, usecols=[2,3])\n",
    "y = np.genfromtxt(\n",
    "        \"data/train.csv\", delimiter=\",\", skip_header=1, usecols=[1],\n",
    "        converters={1: lambda x: -1 if b's' in x else 1})"
   ]
  },
  {
   "cell_type": "code",
   "execution_count": 33,
   "id": "0380fb97",
   "metadata": {},
   "outputs": [
    {
     "data": {
      "text/plain": [
       "1"
      ]
     },
     "execution_count": 33,
     "metadata": {},
     "output_type": "execute_result"
    }
   ],
   "source": []
  },
  {
   "cell_type": "code",
   "execution_count": null,
   "id": "2825cc56",
   "metadata": {},
   "outputs": [],
   "source": []
  }
 ],
 "metadata": {
  "kernelspec": {
   "display_name": "Python 3 (ipykernel)",
   "language": "python",
   "name": "python3"
  },
  "language_info": {
   "codemirror_mode": {
    "name": "ipython",
    "version": 3
   },
   "file_extension": ".py",
   "mimetype": "text/x-python",
   "name": "python",
   "nbconvert_exporter": "python",
   "pygments_lexer": "ipython3",
   "version": "3.9.12"
  }
 },
 "nbformat": 4,
 "nbformat_minor": 5
}
