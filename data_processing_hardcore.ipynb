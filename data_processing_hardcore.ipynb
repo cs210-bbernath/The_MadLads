{
 "cells": [
  {
   "cell_type": "code",
   "execution_count": 1,
   "id": "2fd0d97f",
   "metadata": {},
   "outputs": [],
   "source": [
    "import numpy as np\n",
    "import matplotlib as plt\n",
    "from hilp import load_csv_data\n",
    "from helper import *\n",
    "from costs import *"
   ]
  },
  {
   "cell_type": "code",
   "execution_count": 2,
   "id": "3351eeee",
   "metadata": {},
   "outputs": [],
   "source": [
    "yb, input_data, ids = load_csv_data('data/test.csv')"
   ]
  },
  {
   "cell_type": "code",
   "execution_count": 3,
   "id": "0380fb97",
   "metadata": {},
   "outputs": [
    {
     "data": {
      "text/plain": [
       "(568238, 30)"
      ]
     },
     "execution_count": 3,
     "metadata": {},
     "output_type": "execute_result"
    }
   ],
   "source": [
    "input_data.shape"
   ]
  },
  {
   "cell_type": "code",
   "execution_count": 4,
   "id": "cb806382",
   "metadata": {},
   "outputs": [],
   "source": [
    "input_data[input_data == -999] = np.nan"
   ]
  },
  {
   "cell_type": "code",
   "execution_count": 5,
   "id": "c36298a9",
   "metadata": {},
   "outputs": [
    {
     "data": {
      "text/plain": [
       "array([False,  True,  True,  True, False, False, False,  True,  True,\n",
       "        True,  True,  True, False,  True,  True,  True,  True,  True,\n",
       "        True,  True,  True,  True,  True, False, False, False, False,\n",
       "       False, False,  True])"
      ]
     },
     "execution_count": 5,
     "metadata": {},
     "output_type": "execute_result"
    }
   ],
   "source": [
    "to_keep = ~(np.any(np.isnan(input_data), axis=0))\n",
    "to_keep"
   ]
  },
  {
   "cell_type": "code",
   "execution_count": 10,
   "id": "4c6aca72",
   "metadata": {},
   "outputs": [
    {
     "ename": "IndexError",
     "evalue": "boolean index did not match indexed array along dimension 0; dimension is 568238 but corresponding boolean dimension is 30",
     "output_type": "error",
     "traceback": [
      "\u001b[1;31m---------------------------------------------------------------------------\u001b[0m",
      "\u001b[1;31mIndexError\u001b[0m                                Traceback (most recent call last)",
      "Input \u001b[1;32mIn [10]\u001b[0m, in \u001b[0;36m<module>\u001b[1;34m\u001b[0m\n\u001b[1;32m----> 1\u001b[0m input_data_to_keep \u001b[38;5;241m=\u001b[39m \u001b[43minput_data\u001b[49m\u001b[43m[\u001b[49m\u001b[43mto_keep\u001b[49m\u001b[43m,\u001b[49m\u001b[43m \u001b[49m\u001b[43m:\u001b[49m\u001b[43m]\u001b[49m\n",
      "\u001b[1;31mIndexError\u001b[0m: boolean index did not match indexed array along dimension 0; dimension is 568238 but corresponding boolean dimension is 30"
     ]
    }
   ],
   "source": [
    "input_data_to_keep = input_data[to_keep, :]"
   ]
  },
  {
   "cell_type": "code",
   "execution_count": 7,
   "id": "d260bccb",
   "metadata": {},
   "outputs": [
    {
     "data": {
      "text/plain": [
       "(568238, 19)"
      ]
     },
     "execution_count": 7,
     "metadata": {},
     "output_type": "execute_result"
    }
   ],
   "source": [
    "input_data_to_keep.shape"
   ]
  },
  {
   "cell_type": "code",
   "execution_count": 8,
   "id": "baea262c",
   "metadata": {},
   "outputs": [],
   "source": [
    "initial_w = np.zeros(30)\n",
    "batch_size = 1\n",
    "max_iters = 20\n",
    "gamma = 0.01"
   ]
  },
  {
   "cell_type": "code",
   "execution_count": 9,
   "id": "3478c615",
   "metadata": {},
   "outputs": [
    {
     "ename": "ValueError",
     "evalue": "shapes (1,19) and (30,) not aligned: 19 (dim 1) != 30 (dim 0)",
     "output_type": "error",
     "traceback": [
      "\u001b[1;31m---------------------------------------------------------------------------\u001b[0m",
      "\u001b[1;31mValueError\u001b[0m                                Traceback (most recent call last)",
      "Input \u001b[1;32mIn [9]\u001b[0m, in \u001b[0;36m<module>\u001b[1;34m\u001b[0m\n\u001b[1;32m----> 1\u001b[0m \u001b[43mstochastic_gradient_descent\u001b[49m\u001b[43m(\u001b[49m\u001b[43myb\u001b[49m\u001b[43m,\u001b[49m\u001b[43m \u001b[49m\u001b[43minput_data_to_keep\u001b[49m\u001b[43m,\u001b[49m\u001b[43m \u001b[49m\u001b[43minitial_w\u001b[49m\u001b[43m,\u001b[49m\u001b[43m \u001b[49m\u001b[43mbatch_size\u001b[49m\u001b[43m,\u001b[49m\u001b[43m \u001b[49m\u001b[43mmax_iters\u001b[49m\u001b[43m,\u001b[49m\u001b[43m \u001b[49m\u001b[43mgamma\u001b[49m\u001b[43m)\u001b[49m\n",
      "File \u001b[1;32m~\\Documents\\EPFL - MA1\\ML\\Projet_1\\The_MadLads\\helper.py:122\u001b[0m, in \u001b[0;36mstochastic_gradient_descent\u001b[1;34m(y, tx, initial_w, batch_size, max_iters, gamma)\u001b[0m\n\u001b[0;32m    119\u001b[0m \u001b[38;5;28;01mfor\u001b[39;00m n_iter \u001b[38;5;129;01min\u001b[39;00m \u001b[38;5;28mrange\u001b[39m(max_iters):\n\u001b[0;32m    120\u001b[0m     \u001b[38;5;28;01mfor\u001b[39;00m minibatch_y, minibatch_tx \u001b[38;5;129;01min\u001b[39;00m batch_iter(y, tx, batch_size\u001b[38;5;241m=\u001b[39mbatch_size):\n\u001b[0;32m    121\u001b[0m         \u001b[38;5;66;03m# compute stoch_gradient\u001b[39;00m\n\u001b[1;32m--> 122\u001b[0m         stoch_gradient \u001b[38;5;241m=\u001b[39m \u001b[43mcompute_stoch_gradient\u001b[49m\u001b[43m(\u001b[49m\u001b[43mminibatch_y\u001b[49m\u001b[43m,\u001b[49m\u001b[43m \u001b[49m\u001b[43mminibatch_tx\u001b[49m\u001b[43m,\u001b[49m\u001b[43m \u001b[49m\u001b[43mw\u001b[49m\u001b[43m)\u001b[49m\n\u001b[0;32m    124\u001b[0m         \u001b[38;5;66;03m# compute loss\u001b[39;00m\n\u001b[0;32m    125\u001b[0m         loss \u001b[38;5;241m=\u001b[39m compute_mse(y, tx, w)\n",
      "File \u001b[1;32m~\\Documents\\EPFL - MA1\\ML\\Projet_1\\The_MadLads\\helper.py:90\u001b[0m, in \u001b[0;36mcompute_stoch_gradient\u001b[1;34m(y, tx, w)\u001b[0m\n\u001b[0;32m     79\u001b[0m \u001b[38;5;124;03m\"\"\"Compute a stochastic gradient at w from just few examples n and their corresponding y_n labels.\u001b[39;00m\n\u001b[0;32m     80\u001b[0m \u001b[38;5;124;03m    \u001b[39;00m\n\u001b[0;32m     81\u001b[0m \u001b[38;5;124;03mArgs:\u001b[39;00m\n\u001b[1;32m   (...)\u001b[0m\n\u001b[0;32m     87\u001b[0m \u001b[38;5;124;03m    A numpy array of shape (2, ) (same shape as w), containing the stochastic gradient of the loss at w.\u001b[39;00m\n\u001b[0;32m     88\u001b[0m \u001b[38;5;124;03m\"\"\"\u001b[39;00m\n\u001b[0;32m     89\u001b[0m N \u001b[38;5;241m=\u001b[39m \u001b[38;5;28mlen\u001b[39m(y)\n\u001b[1;32m---> 90\u001b[0m error \u001b[38;5;241m=\u001b[39m y \u001b[38;5;241m-\u001b[39m \u001b[43mtx\u001b[49m\u001b[38;5;241;43m.\u001b[39;49m\u001b[43mdot\u001b[49m\u001b[43m(\u001b[49m\u001b[43mw\u001b[49m\u001b[43m)\u001b[49m\n\u001b[0;32m     91\u001b[0m stoch_gradient \u001b[38;5;241m=\u001b[39m \u001b[38;5;241m-\u001b[39m(\u001b[38;5;241m1\u001b[39m\u001b[38;5;241m/\u001b[39mN) \u001b[38;5;241m*\u001b[39m tx\u001b[38;5;241m.\u001b[39mT\u001b[38;5;241m.\u001b[39mdot(error)\n\u001b[0;32m     93\u001b[0m \u001b[38;5;28;01mreturn\u001b[39;00m stoch_gradient\n",
      "\u001b[1;31mValueError\u001b[0m: shapes (1,19) and (30,) not aligned: 19 (dim 1) != 30 (dim 0)"
     ]
    }
   ],
   "source": [
    "stochastic_gradient_descent(yb, input_data_to_keep, initial_w, batch_size, max_iters, gamma)"
   ]
  },
  {
   "cell_type": "code",
   "execution_count": null,
   "id": "f99c5f52",
   "metadata": {},
   "outputs": [],
   "source": []
  }
 ],
 "metadata": {
  "kernelspec": {
   "display_name": "Python 3 (ipykernel)",
   "language": "python",
   "name": "python3"
  },
  "language_info": {
   "codemirror_mode": {
    "name": "ipython",
    "version": 3
   },
   "file_extension": ".py",
   "mimetype": "text/x-python",
   "name": "python",
   "nbconvert_exporter": "python",
   "pygments_lexer": "ipython3",
   "version": "3.9.10"
  }
 },
 "nbformat": 4,
 "nbformat_minor": 5
}
